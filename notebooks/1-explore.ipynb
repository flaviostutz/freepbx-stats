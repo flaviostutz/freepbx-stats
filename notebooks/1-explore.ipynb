{
 "cells": [
  {
   "cell_type": "code",
   "execution_count": 167,
   "metadata": {},
   "outputs": [],
   "source": [
    "import pandas as pd"
   ]
  },
  {
   "cell_type": "code",
   "execution_count": 168,
   "metadata": {},
   "outputs": [],
   "source": [
    "gmt = -3\n",
    "cdr = pd.read_csv('input/cdr-sample.csv')"
   ]
  },
  {
   "cell_type": "code",
   "execution_count": 169,
   "metadata": {},
   "outputs": [
    {
     "data": {
      "text/html": [
       "<div>\n",
       "<style scoped>\n",
       "    .dataframe tbody tr th:only-of-type {\n",
       "        vertical-align: middle;\n",
       "    }\n",
       "\n",
       "    .dataframe tbody tr th {\n",
       "        vertical-align: top;\n",
       "    }\n",
       "\n",
       "    .dataframe thead th {\n",
       "        text-align: right;\n",
       "    }\n",
       "</style>\n",
       "<table border=\"1\" class=\"dataframe\">\n",
       "  <thead>\n",
       "    <tr style=\"text-align: right;\">\n",
       "      <th></th>\n",
       "      <th>src</th>\n",
       "      <th>dst</th>\n",
       "      <th>duration</th>\n",
       "      <th>billsec</th>\n",
       "      <th>amaflags</th>\n",
       "      <th>accountcode</th>\n",
       "      <th>uniqueid</th>\n",
       "      <th>userfield</th>\n",
       "    </tr>\n",
       "  </thead>\n",
       "  <tbody>\n",
       "    <tr>\n",
       "      <th>count</th>\n",
       "      <td>3.000000e+01</td>\n",
       "      <td>3.000000e+01</td>\n",
       "      <td>30.000000</td>\n",
       "      <td>30.000000</td>\n",
       "      <td>30.0</td>\n",
       "      <td>0.0</td>\n",
       "      <td>3.000000e+01</td>\n",
       "      <td>0.0</td>\n",
       "    </tr>\n",
       "    <tr>\n",
       "      <th>mean</th>\n",
       "      <td>3.131570e+10</td>\n",
       "      <td>3.161630e+10</td>\n",
       "      <td>136.800000</td>\n",
       "      <td>114.733333</td>\n",
       "      <td>3.0</td>\n",
       "      <td>NaN</td>\n",
       "      <td>1.605724e+09</td>\n",
       "      <td>NaN</td>\n",
       "    </tr>\n",
       "    <tr>\n",
       "      <th>std</th>\n",
       "      <td>6.803534e+10</td>\n",
       "      <td>8.224434e+10</td>\n",
       "      <td>179.172119</td>\n",
       "      <td>182.027647</td>\n",
       "      <td>0.0</td>\n",
       "      <td>NaN</td>\n",
       "      <td>4.260892e+03</td>\n",
       "      <td>NaN</td>\n",
       "    </tr>\n",
       "    <tr>\n",
       "      <th>min</th>\n",
       "      <td>2.000000e+03</td>\n",
       "      <td>1.012000e+03</td>\n",
       "      <td>6.000000</td>\n",
       "      <td>0.000000</td>\n",
       "      <td>3.0</td>\n",
       "      <td>NaN</td>\n",
       "      <td>1.605712e+09</td>\n",
       "      <td>NaN</td>\n",
       "    </tr>\n",
       "    <tr>\n",
       "      <th>25%</th>\n",
       "      <td>3.333333e+08</td>\n",
       "      <td>1.111000e+03</td>\n",
       "      <td>25.500000</td>\n",
       "      <td>0.000000</td>\n",
       "      <td>3.0</td>\n",
       "      <td>NaN</td>\n",
       "      <td>1.605722e+09</td>\n",
       "      <td>NaN</td>\n",
       "    </tr>\n",
       "    <tr>\n",
       "      <th>50%</th>\n",
       "      <td>3.333333e+08</td>\n",
       "      <td>2.373829e+09</td>\n",
       "      <td>58.500000</td>\n",
       "      <td>16.000000</td>\n",
       "      <td>3.0</td>\n",
       "      <td>NaN</td>\n",
       "      <td>1.605724e+09</td>\n",
       "      <td>NaN</td>\n",
       "    </tr>\n",
       "    <tr>\n",
       "      <th>75%</th>\n",
       "      <td>2.222222e+10</td>\n",
       "      <td>2.373686e+10</td>\n",
       "      <td>191.000000</td>\n",
       "      <td>178.750000</td>\n",
       "      <td>3.0</td>\n",
       "      <td>NaN</td>\n",
       "      <td>1.605727e+09</td>\n",
       "      <td>NaN</td>\n",
       "    </tr>\n",
       "    <tr>\n",
       "      <th>max</th>\n",
       "      <td>2.244224e+11</td>\n",
       "      <td>3.434242e+11</td>\n",
       "      <td>813.000000</td>\n",
       "      <td>798.000000</td>\n",
       "      <td>3.0</td>\n",
       "      <td>NaN</td>\n",
       "      <td>1.605734e+09</td>\n",
       "      <td>NaN</td>\n",
       "    </tr>\n",
       "  </tbody>\n",
       "</table>\n",
       "</div>"
      ],
      "text/plain": [
       "                src           dst    duration     billsec  amaflags  \\\n",
       "count  3.000000e+01  3.000000e+01   30.000000   30.000000      30.0   \n",
       "mean   3.131570e+10  3.161630e+10  136.800000  114.733333       3.0   \n",
       "std    6.803534e+10  8.224434e+10  179.172119  182.027647       0.0   \n",
       "min    2.000000e+03  1.012000e+03    6.000000    0.000000       3.0   \n",
       "25%    3.333333e+08  1.111000e+03   25.500000    0.000000       3.0   \n",
       "50%    3.333333e+08  2.373829e+09   58.500000   16.000000       3.0   \n",
       "75%    2.222222e+10  2.373686e+10  191.000000  178.750000       3.0   \n",
       "max    2.244224e+11  3.434242e+11  813.000000  798.000000       3.0   \n",
       "\n",
       "       accountcode      uniqueid  userfield  \n",
       "count          0.0  3.000000e+01        0.0  \n",
       "mean           NaN  1.605724e+09        NaN  \n",
       "std            NaN  4.260892e+03        NaN  \n",
       "min            NaN  1.605712e+09        NaN  \n",
       "25%            NaN  1.605722e+09        NaN  \n",
       "50%            NaN  1.605724e+09        NaN  \n",
       "75%            NaN  1.605727e+09        NaN  \n",
       "max            NaN  1.605734e+09        NaN  "
      ]
     },
     "execution_count": 169,
     "metadata": {},
     "output_type": "execute_result"
    }
   ],
   "source": [
    "cdr.describe()"
   ]
  },
  {
   "cell_type": "code",
   "execution_count": 170,
   "metadata": {},
   "outputs": [
    {
     "data": {
      "text/html": [
       "<div>\n",
       "<style scoped>\n",
       "    .dataframe tbody tr th:only-of-type {\n",
       "        vertical-align: middle;\n",
       "    }\n",
       "\n",
       "    .dataframe tbody tr th {\n",
       "        vertical-align: top;\n",
       "    }\n",
       "\n",
       "    .dataframe thead th {\n",
       "        text-align: right;\n",
       "    }\n",
       "</style>\n",
       "<table border=\"1\" class=\"dataframe\">\n",
       "  <thead>\n",
       "    <tr style=\"text-align: right;\">\n",
       "      <th></th>\n",
       "      <th>calldate</th>\n",
       "      <th>clid</th>\n",
       "      <th>src</th>\n",
       "      <th>dst</th>\n",
       "      <th>dcontext</th>\n",
       "      <th>channel</th>\n",
       "      <th>dstchannel</th>\n",
       "      <th>lastapp</th>\n",
       "      <th>lastdata</th>\n",
       "      <th>duration</th>\n",
       "      <th>billsec</th>\n",
       "      <th>disposition</th>\n",
       "      <th>amaflags</th>\n",
       "      <th>accountcode</th>\n",
       "      <th>uniqueid</th>\n",
       "      <th>userfield</th>\n",
       "    </tr>\n",
       "  </thead>\n",
       "  <tbody>\n",
       "    <tr>\n",
       "      <th>0</th>\n",
       "      <td>2020-11-18 21:11:10</td>\n",
       "      <td>\"22222222222\" &lt;22222222222&gt;</td>\n",
       "      <td>22222222222</td>\n",
       "      <td>1111</td>\n",
       "      <td>ext-group</td>\n",
       "      <td>SIP/333333333-0000126b</td>\n",
       "      <td>SIP/1000-0000126c</td>\n",
       "      <td>Dial</td>\n",
       "      <td>SIP/1000&amp;SIP/1011&amp;SIP/1013,60,HhtrM(auto-blkvm...</td>\n",
       "      <td>51</td>\n",
       "      <td>0</td>\n",
       "      <td>NO ANSWER</td>\n",
       "      <td>3</td>\n",
       "      <td>NaN</td>\n",
       "      <td>1.605734e+09</td>\n",
       "      <td>NaN</td>\n",
       "    </tr>\n",
       "    <tr>\n",
       "      <th>1</th>\n",
       "      <td>2020-11-18 21:09:30</td>\n",
       "      <td>\"22222222222\" &lt;22222222222&gt;</td>\n",
       "      <td>22222222222</td>\n",
       "      <td>1111</td>\n",
       "      <td>ext-group</td>\n",
       "      <td>SIP/333333333-00001269</td>\n",
       "      <td>SIP/1000-0000126a</td>\n",
       "      <td>Dial</td>\n",
       "      <td>SIP/1000&amp;SIP/1011&amp;SIP/1013,60,HhtrM(auto-blkvm...</td>\n",
       "      <td>52</td>\n",
       "      <td>0</td>\n",
       "      <td>NO ANSWER</td>\n",
       "      <td>3</td>\n",
       "      <td>NaN</td>\n",
       "      <td>1.605734e+09</td>\n",
       "      <td>NaN</td>\n",
       "    </tr>\n",
       "    <tr>\n",
       "      <th>2</th>\n",
       "      <td>2020-11-18 20:18:22</td>\n",
       "      <td>\"\" &lt;333333333&gt;</td>\n",
       "      <td>333333333</td>\n",
       "      <td>2323423423</td>\n",
       "      <td>from-internal</td>\n",
       "      <td>SIP/1027-00001267</td>\n",
       "      <td>SIP/gvt-vox-00001268</td>\n",
       "      <td>Dial</td>\n",
       "      <td>SIP/gvt-vox/0152323423423,300,Tb(func-apply-si...</td>\n",
       "      <td>380</td>\n",
       "      <td>370</td>\n",
       "      <td>ANSWERED</td>\n",
       "      <td>3</td>\n",
       "      <td>NaN</td>\n",
       "      <td>1.605731e+09</td>\n",
       "      <td>NaN</td>\n",
       "    </tr>\n",
       "    <tr>\n",
       "      <th>3</th>\n",
       "      <td>2020-11-18 19:38:34</td>\n",
       "      <td>\"\" &lt;333333333&gt;</td>\n",
       "      <td>333333333</td>\n",
       "      <td>2234234</td>\n",
       "      <td>from-internal</td>\n",
       "      <td>SIP/1020-00001265</td>\n",
       "      <td>SIP/gvt-vox-00001266</td>\n",
       "      <td>Dial</td>\n",
       "      <td>SIP/gvt-vox/2234234,300,Tb(func-apply-sipheade...</td>\n",
       "      <td>156</td>\n",
       "      <td>148</td>\n",
       "      <td>ANSWERED</td>\n",
       "      <td>3</td>\n",
       "      <td>NaN</td>\n",
       "      <td>1.605728e+09</td>\n",
       "      <td>NaN</td>\n",
       "    </tr>\n",
       "    <tr>\n",
       "      <th>4</th>\n",
       "      <td>2020-11-18 19:18:08</td>\n",
       "      <td>\"\" &lt;333333333&gt;</td>\n",
       "      <td>333333333</td>\n",
       "      <td>53453434</td>\n",
       "      <td>from-internal</td>\n",
       "      <td>SIP/1020-00001263</td>\n",
       "      <td>SIP/gvt-vox-00001264</td>\n",
       "      <td>Dial</td>\n",
       "      <td>SIP/gvt-vox/53453434,300,Tb(func-apply-siphead...</td>\n",
       "      <td>198</td>\n",
       "      <td>185</td>\n",
       "      <td>ANSWERED</td>\n",
       "      <td>3</td>\n",
       "      <td>NaN</td>\n",
       "      <td>1.605727e+09</td>\n",
       "      <td>NaN</td>\n",
       "    </tr>\n",
       "  </tbody>\n",
       "</table>\n",
       "</div>"
      ],
      "text/plain": [
       "              calldate                         clid          src         dst  \\\n",
       "0  2020-11-18 21:11:10  \"22222222222\" <22222222222>  22222222222        1111   \n",
       "1  2020-11-18 21:09:30  \"22222222222\" <22222222222>  22222222222        1111   \n",
       "2  2020-11-18 20:18:22               \"\" <333333333>    333333333  2323423423   \n",
       "3  2020-11-18 19:38:34               \"\" <333333333>    333333333     2234234   \n",
       "4  2020-11-18 19:18:08               \"\" <333333333>    333333333    53453434   \n",
       "\n",
       "        dcontext                 channel            dstchannel lastapp  \\\n",
       "0      ext-group  SIP/333333333-0000126b     SIP/1000-0000126c    Dial   \n",
       "1      ext-group  SIP/333333333-00001269     SIP/1000-0000126a    Dial   \n",
       "2  from-internal       SIP/1027-00001267  SIP/gvt-vox-00001268    Dial   \n",
       "3  from-internal       SIP/1020-00001265  SIP/gvt-vox-00001266    Dial   \n",
       "4  from-internal       SIP/1020-00001263  SIP/gvt-vox-00001264    Dial   \n",
       "\n",
       "                                            lastdata  duration  billsec  \\\n",
       "0  SIP/1000&SIP/1011&SIP/1013,60,HhtrM(auto-blkvm...        51        0   \n",
       "1  SIP/1000&SIP/1011&SIP/1013,60,HhtrM(auto-blkvm...        52        0   \n",
       "2  SIP/gvt-vox/0152323423423,300,Tb(func-apply-si...       380      370   \n",
       "3  SIP/gvt-vox/2234234,300,Tb(func-apply-sipheade...       156      148   \n",
       "4  SIP/gvt-vox/53453434,300,Tb(func-apply-siphead...       198      185   \n",
       "\n",
       "  disposition  amaflags  accountcode      uniqueid  userfield  \n",
       "0   NO ANSWER         3          NaN  1.605734e+09        NaN  \n",
       "1   NO ANSWER         3          NaN  1.605734e+09        NaN  \n",
       "2    ANSWERED         3          NaN  1.605731e+09        NaN  \n",
       "3    ANSWERED         3          NaN  1.605728e+09        NaN  \n",
       "4    ANSWERED         3          NaN  1.605727e+09        NaN  "
      ]
     },
     "execution_count": 170,
     "metadata": {},
     "output_type": "execute_result"
    }
   ],
   "source": [
    "cdr.head()"
   ]
  },
  {
   "cell_type": "code",
   "execution_count": 171,
   "metadata": {},
   "outputs": [
    {
     "data": {
      "text/plain": [
       "duration    4104\n",
       "billsec     3442\n",
       "dtype: int64"
      ]
     },
     "execution_count": 171,
     "metadata": {},
     "output_type": "execute_result"
    }
   ],
   "source": [
    "cdr[['duration','billsec']].sum()"
   ]
  },
  {
   "cell_type": "code",
   "execution_count": 172,
   "metadata": {},
   "outputs": [
    {
     "data": {
      "text/html": [
       "<div>\n",
       "<style scoped>\n",
       "    .dataframe tbody tr th:only-of-type {\n",
       "        vertical-align: middle;\n",
       "    }\n",
       "\n",
       "    .dataframe tbody tr th {\n",
       "        vertical-align: top;\n",
       "    }\n",
       "\n",
       "    .dataframe thead th {\n",
       "        text-align: right;\n",
       "    }\n",
       "</style>\n",
       "<table border=\"1\" class=\"dataframe\">\n",
       "  <thead>\n",
       "    <tr style=\"text-align: right;\">\n",
       "      <th></th>\n",
       "      <th>calldate</th>\n",
       "      <th>clid</th>\n",
       "      <th>src</th>\n",
       "      <th>dst</th>\n",
       "      <th>dcontext</th>\n",
       "      <th>channel</th>\n",
       "      <th>dstchannel</th>\n",
       "      <th>lastapp</th>\n",
       "      <th>lastdata</th>\n",
       "      <th>duration</th>\n",
       "      <th>billsec</th>\n",
       "      <th>disposition</th>\n",
       "      <th>amaflags</th>\n",
       "      <th>accountcode</th>\n",
       "      <th>uniqueid</th>\n",
       "      <th>userfield</th>\n",
       "    </tr>\n",
       "  </thead>\n",
       "  <tbody>\n",
       "    <tr>\n",
       "      <th>0</th>\n",
       "      <td>2020-11-18 21:11:10</td>\n",
       "      <td>\"22222222222\" &lt;22222222222&gt;</td>\n",
       "      <td>22222222222</td>\n",
       "      <td>1111</td>\n",
       "      <td>ext-group</td>\n",
       "      <td>SIP/333333333-0000126b</td>\n",
       "      <td>SIP/1000-0000126c</td>\n",
       "      <td>Dial</td>\n",
       "      <td>SIP/1000&amp;SIP/1011&amp;SIP/1013,60,HhtrM(auto-blkvm...</td>\n",
       "      <td>51</td>\n",
       "      <td>0</td>\n",
       "      <td>NO ANSWER</td>\n",
       "      <td>3</td>\n",
       "      <td>NaN</td>\n",
       "      <td>1.605734e+09</td>\n",
       "      <td>NaN</td>\n",
       "    </tr>\n",
       "    <tr>\n",
       "      <th>1</th>\n",
       "      <td>2020-11-18 21:09:30</td>\n",
       "      <td>\"22222222222\" &lt;22222222222&gt;</td>\n",
       "      <td>22222222222</td>\n",
       "      <td>1111</td>\n",
       "      <td>ext-group</td>\n",
       "      <td>SIP/333333333-00001269</td>\n",
       "      <td>SIP/1000-0000126a</td>\n",
       "      <td>Dial</td>\n",
       "      <td>SIP/1000&amp;SIP/1011&amp;SIP/1013,60,HhtrM(auto-blkvm...</td>\n",
       "      <td>52</td>\n",
       "      <td>0</td>\n",
       "      <td>NO ANSWER</td>\n",
       "      <td>3</td>\n",
       "      <td>NaN</td>\n",
       "      <td>1.605734e+09</td>\n",
       "      <td>NaN</td>\n",
       "    </tr>\n",
       "    <tr>\n",
       "      <th>2</th>\n",
       "      <td>2020-11-18 20:18:22</td>\n",
       "      <td>\"\" &lt;333333333&gt;</td>\n",
       "      <td>333333333</td>\n",
       "      <td>2323423423</td>\n",
       "      <td>from-internal</td>\n",
       "      <td>SIP/1027-00001267</td>\n",
       "      <td>SIP/gvt-vox-00001268</td>\n",
       "      <td>Dial</td>\n",
       "      <td>SIP/gvt-vox/0152323423423,300,Tb(func-apply-si...</td>\n",
       "      <td>380</td>\n",
       "      <td>370</td>\n",
       "      <td>ANSWERED</td>\n",
       "      <td>3</td>\n",
       "      <td>NaN</td>\n",
       "      <td>1.605731e+09</td>\n",
       "      <td>NaN</td>\n",
       "    </tr>\n",
       "    <tr>\n",
       "      <th>3</th>\n",
       "      <td>2020-11-18 19:38:34</td>\n",
       "      <td>\"\" &lt;333333333&gt;</td>\n",
       "      <td>333333333</td>\n",
       "      <td>2234234</td>\n",
       "      <td>from-internal</td>\n",
       "      <td>SIP/1020-00001265</td>\n",
       "      <td>SIP/gvt-vox-00001266</td>\n",
       "      <td>Dial</td>\n",
       "      <td>SIP/gvt-vox/2234234,300,Tb(func-apply-sipheade...</td>\n",
       "      <td>156</td>\n",
       "      <td>148</td>\n",
       "      <td>ANSWERED</td>\n",
       "      <td>3</td>\n",
       "      <td>NaN</td>\n",
       "      <td>1.605728e+09</td>\n",
       "      <td>NaN</td>\n",
       "    </tr>\n",
       "    <tr>\n",
       "      <th>4</th>\n",
       "      <td>2020-11-18 19:18:08</td>\n",
       "      <td>\"\" &lt;333333333&gt;</td>\n",
       "      <td>333333333</td>\n",
       "      <td>53453434</td>\n",
       "      <td>from-internal</td>\n",
       "      <td>SIP/1020-00001263</td>\n",
       "      <td>SIP/gvt-vox-00001264</td>\n",
       "      <td>Dial</td>\n",
       "      <td>SIP/gvt-vox/53453434,300,Tb(func-apply-siphead...</td>\n",
       "      <td>198</td>\n",
       "      <td>185</td>\n",
       "      <td>ANSWERED</td>\n",
       "      <td>3</td>\n",
       "      <td>NaN</td>\n",
       "      <td>1.605727e+09</td>\n",
       "      <td>NaN</td>\n",
       "    </tr>\n",
       "  </tbody>\n",
       "</table>\n",
       "</div>"
      ],
      "text/plain": [
       "             calldate                         clid          src         dst  \\\n",
       "0 2020-11-18 21:11:10  \"22222222222\" <22222222222>  22222222222        1111   \n",
       "1 2020-11-18 21:09:30  \"22222222222\" <22222222222>  22222222222        1111   \n",
       "2 2020-11-18 20:18:22               \"\" <333333333>    333333333  2323423423   \n",
       "3 2020-11-18 19:38:34               \"\" <333333333>    333333333     2234234   \n",
       "4 2020-11-18 19:18:08               \"\" <333333333>    333333333    53453434   \n",
       "\n",
       "        dcontext                 channel            dstchannel lastapp  \\\n",
       "0      ext-group  SIP/333333333-0000126b     SIP/1000-0000126c    Dial   \n",
       "1      ext-group  SIP/333333333-00001269     SIP/1000-0000126a    Dial   \n",
       "2  from-internal       SIP/1027-00001267  SIP/gvt-vox-00001268    Dial   \n",
       "3  from-internal       SIP/1020-00001265  SIP/gvt-vox-00001266    Dial   \n",
       "4  from-internal       SIP/1020-00001263  SIP/gvt-vox-00001264    Dial   \n",
       "\n",
       "                                            lastdata  duration  billsec  \\\n",
       "0  SIP/1000&SIP/1011&SIP/1013,60,HhtrM(auto-blkvm...        51        0   \n",
       "1  SIP/1000&SIP/1011&SIP/1013,60,HhtrM(auto-blkvm...        52        0   \n",
       "2  SIP/gvt-vox/0152323423423,300,Tb(func-apply-si...       380      370   \n",
       "3  SIP/gvt-vox/2234234,300,Tb(func-apply-sipheade...       156      148   \n",
       "4  SIP/gvt-vox/53453434,300,Tb(func-apply-siphead...       198      185   \n",
       "\n",
       "  disposition  amaflags  accountcode      uniqueid  userfield  \n",
       "0   NO ANSWER         3          NaN  1.605734e+09        NaN  \n",
       "1   NO ANSWER         3          NaN  1.605734e+09        NaN  \n",
       "2    ANSWERED         3          NaN  1.605731e+09        NaN  \n",
       "3    ANSWERED         3          NaN  1.605728e+09        NaN  \n",
       "4    ANSWERED         3          NaN  1.605727e+09        NaN  "
      ]
     },
     "execution_count": 172,
     "metadata": {},
     "output_type": "execute_result"
    }
   ],
   "source": [
    "cdr['calldate'] = pd.to_datetime(cdr.calldate, format=\"%Y-%m-%d %H:%M:%S\")\n",
    "cdr.head()"
   ]
  },
  {
   "cell_type": "code",
   "execution_count": 173,
   "metadata": {},
   "outputs": [
    {
     "data": {
      "text/plain": [
       "<matplotlib.axes._subplots.AxesSubplot at 0x7f2bd3ecc7b8>"
      ]
     },
     "execution_count": 173,
     "metadata": {},
     "output_type": "execute_result"
    },
    {
     "data": {
      "image/png": "[encoded data removed]",
      "text/plain": [
       "<Figure size 432x288 with 1 Axes>"
      ]
     },
     "metadata": {
      "needs_background": "light"
     },
     "output_type": "display_data"
    }
   ],
   "source": [
    "cdr[['calldate']].groupby(cdr[\"calldate\"].dt.month).count().plot(kind=\"bar\")"
   ]
  },
  {
   "cell_type": "code",
   "execution_count": 174,
   "metadata": {},
   "outputs": [],
   "source": [
    "cdr = cdr.set_index('calldate')"
   ]
  },
  {
   "cell_type": "code",
   "execution_count": 175,
   "metadata": {},
   "outputs": [
    {
     "data": {
      "text/plain": [
       "clid            object\n",
       "src              int64\n",
       "dst              int64\n",
       "dcontext        object\n",
       "channel         object\n",
       "dstchannel      object\n",
       "lastapp         object\n",
       "lastdata        object\n",
       "duration         int64\n",
       "billsec          int64\n",
       "disposition     object\n",
       "amaflags         int64\n",
       "accountcode    float64\n",
       "uniqueid       float64\n",
       "userfield      float64\n",
       "dtype: object"
      ]
     },
     "execution_count": 175,
     "metadata": {},
     "output_type": "execute_result"
    }
   ],
   "source": [
    "cdr.dtypes"
   ]
  },
  {
   "cell_type": "markdown",
   "metadata": {},
   "source": [
    "### Organize calls per internal origin/external destination"
   ]
  },
  {
   "cell_type": "code",
   "execution_count": 176,
   "metadata": {},
   "outputs": [],
   "source": [
    "cdr['channel2'] = cdr['channel'].str.slice(4,8)\n",
    "cdr['dstchannel2'] = cdr['dstchannel'].str.slice(4,8)"
   ]
  },
  {
   "cell_type": "code",
   "execution_count": 177,
   "metadata": {},
   "outputs": [
    {
     "data": {
      "text/html": [
       "<div>\n",
       "<style scoped>\n",
       "    .dataframe tbody tr th:only-of-type {\n",
       "        vertical-align: middle;\n",
       "    }\n",
       "\n",
       "    .dataframe tbody tr th {\n",
       "        vertical-align: top;\n",
       "    }\n",
       "\n",
       "    .dataframe thead th {\n",
       "        text-align: right;\n",
       "    }\n",
       "</style>\n",
       "<table border=\"1\" class=\"dataframe\">\n",
       "  <thead>\n",
       "    <tr style=\"text-align: right;\">\n",
       "      <th></th>\n",
       "      <th>calldate</th>\n",
       "      <th>clid</th>\n",
       "      <th>src</th>\n",
       "      <th>dst</th>\n",
       "      <th>dcontext</th>\n",
       "      <th>channel</th>\n",
       "      <th>dstchannel</th>\n",
       "      <th>lastapp</th>\n",
       "      <th>lastdata</th>\n",
       "      <th>duration</th>\n",
       "      <th>billsec</th>\n",
       "      <th>disposition</th>\n",
       "      <th>amaflags</th>\n",
       "      <th>accountcode</th>\n",
       "      <th>uniqueid</th>\n",
       "      <th>userfield</th>\n",
       "      <th>channel2</th>\n",
       "      <th>dstchannel2</th>\n",
       "      <th>origin</th>\n",
       "      <th>destination</th>\n",
       "    </tr>\n",
       "  </thead>\n",
       "  <tbody>\n",
       "    <tr>\n",
       "      <th>0</th>\n",
       "      <td>2020-11-18 20:18:22</td>\n",
       "      <td>\"\" &lt;333333333&gt;</td>\n",
       "      <td>333333333</td>\n",
       "      <td>2323423423</td>\n",
       "      <td>from-internal</td>\n",
       "      <td>SIP/1027-00001267</td>\n",
       "      <td>SIP/gvt-vox-00001268</td>\n",
       "      <td>Dial</td>\n",
       "      <td>SIP/gvt-vox/0152323423423,300,Tb(func-apply-si...</td>\n",
       "      <td>380</td>\n",
       "      <td>370</td>\n",
       "      <td>ANSWERED</td>\n",
       "      <td>3</td>\n",
       "      <td>NaN</td>\n",
       "      <td>1.605731e+09</td>\n",
       "      <td>NaN</td>\n",
       "      <td>1027</td>\n",
       "      <td>gvt-</td>\n",
       "      <td>1027</td>\n",
       "      <td>2323423423</td>\n",
       "    </tr>\n",
       "    <tr>\n",
       "      <th>1</th>\n",
       "      <td>2020-11-18 19:38:34</td>\n",
       "      <td>\"\" &lt;333333333&gt;</td>\n",
       "      <td>333333333</td>\n",
       "      <td>2234234</td>\n",
       "      <td>from-internal</td>\n",
       "      <td>SIP/1020-00001265</td>\n",
       "      <td>SIP/gvt-vox-00001266</td>\n",
       "      <td>Dial</td>\n",
       "      <td>SIP/gvt-vox/2234234,300,Tb(func-apply-sipheade...</td>\n",
       "      <td>156</td>\n",
       "      <td>148</td>\n",
       "      <td>ANSWERED</td>\n",
       "      <td>3</td>\n",
       "      <td>NaN</td>\n",
       "      <td>1.605728e+09</td>\n",
       "      <td>NaN</td>\n",
       "      <td>1020</td>\n",
       "      <td>gvt-</td>\n",
       "      <td>1020</td>\n",
       "      <td>2234234</td>\n",
       "    </tr>\n",
       "    <tr>\n",
       "      <th>2</th>\n",
       "      <td>2020-11-18 19:18:08</td>\n",
       "      <td>\"\" &lt;333333333&gt;</td>\n",
       "      <td>333333333</td>\n",
       "      <td>53453434</td>\n",
       "      <td>from-internal</td>\n",
       "      <td>SIP/1020-00001263</td>\n",
       "      <td>SIP/gvt-vox-00001264</td>\n",
       "      <td>Dial</td>\n",
       "      <td>SIP/gvt-vox/53453434,300,Tb(func-apply-siphead...</td>\n",
       "      <td>198</td>\n",
       "      <td>185</td>\n",
       "      <td>ANSWERED</td>\n",
       "      <td>3</td>\n",
       "      <td>NaN</td>\n",
       "      <td>1.605727e+09</td>\n",
       "      <td>NaN</td>\n",
       "      <td>1020</td>\n",
       "      <td>gvt-</td>\n",
       "      <td>1020</td>\n",
       "      <td>53453434</td>\n",
       "    </tr>\n",
       "    <tr>\n",
       "      <th>3</th>\n",
       "      <td>2020-11-18 19:13:06</td>\n",
       "      <td>\"\" &lt;333333333&gt;</td>\n",
       "      <td>333333333</td>\n",
       "      <td>6455456654</td>\n",
       "      <td>from-internal</td>\n",
       "      <td>SIP/1010-0000125f</td>\n",
       "      <td>SIP/gvt-vox-00001260</td>\n",
       "      <td>Dial</td>\n",
       "      <td>SIP/gvt-vox/0156455456654,300,Tb(func-apply-si...</td>\n",
       "      <td>369</td>\n",
       "      <td>316</td>\n",
       "      <td>ANSWERED</td>\n",
       "      <td>3</td>\n",
       "      <td>NaN</td>\n",
       "      <td>1.605727e+09</td>\n",
       "      <td>NaN</td>\n",
       "      <td>1010</td>\n",
       "      <td>gvt-</td>\n",
       "      <td>1010</td>\n",
       "      <td>6455456654</td>\n",
       "    </tr>\n",
       "    <tr>\n",
       "      <th>4</th>\n",
       "      <td>2020-11-18 18:50:40</td>\n",
       "      <td>\"\" &lt;333333333&gt;</td>\n",
       "      <td>333333333</td>\n",
       "      <td>34254534555</td>\n",
       "      <td>from-internal</td>\n",
       "      <td>SIP/1027-00001259</td>\n",
       "      <td>SIP/gvt-vox-0000125a</td>\n",
       "      <td>Dial</td>\n",
       "      <td>SIP/gvt-vox/01534254534555,300,Tb(func-apply-s...</td>\n",
       "      <td>813</td>\n",
       "      <td>798</td>\n",
       "      <td>ANSWERED</td>\n",
       "      <td>3</td>\n",
       "      <td>NaN</td>\n",
       "      <td>1.605725e+09</td>\n",
       "      <td>NaN</td>\n",
       "      <td>1027</td>\n",
       "      <td>gvt-</td>\n",
       "      <td>1027</td>\n",
       "      <td>34254534555</td>\n",
       "    </tr>\n",
       "  </tbody>\n",
       "</table>\n",
       "</div>"
      ],
      "text/plain": [
       "             calldate            clid        src          dst       dcontext  \\\n",
       "0 2020-11-18 20:18:22  \"\" <333333333>  333333333   2323423423  from-internal   \n",
       "1 2020-11-18 19:38:34  \"\" <333333333>  333333333      2234234  from-internal   \n",
       "2 2020-11-18 19:18:08  \"\" <333333333>  333333333     53453434  from-internal   \n",
       "3 2020-11-18 19:13:06  \"\" <333333333>  333333333   6455456654  from-internal   \n",
       "4 2020-11-18 18:50:40  \"\" <333333333>  333333333  34254534555  from-internal   \n",
       "\n",
       "             channel            dstchannel lastapp  \\\n",
       "0  SIP/1027-00001267  SIP/gvt-vox-00001268    Dial   \n",
       "1  SIP/1020-00001265  SIP/gvt-vox-00001266    Dial   \n",
       "2  SIP/1020-00001263  SIP/gvt-vox-00001264    Dial   \n",
       "3  SIP/1010-0000125f  SIP/gvt-vox-00001260    Dial   \n",
       "4  SIP/1027-00001259  SIP/gvt-vox-0000125a    Dial   \n",
       "\n",
       "                                            lastdata  duration  billsec  \\\n",
       "0  SIP/gvt-vox/0152323423423,300,Tb(func-apply-si...       380      370   \n",
       "1  SIP/gvt-vox/2234234,300,Tb(func-apply-sipheade...       156      148   \n",
       "2  SIP/gvt-vox/53453434,300,Tb(func-apply-siphead...       198      185   \n",
       "3  SIP/gvt-vox/0156455456654,300,Tb(func-apply-si...       369      316   \n",
       "4  SIP/gvt-vox/01534254534555,300,Tb(func-apply-s...       813      798   \n",
       "\n",
       "  disposition  amaflags  accountcode      uniqueid  userfield channel2  \\\n",
       "0    ANSWERED         3          NaN  1.605731e+09        NaN     1027   \n",
       "1    ANSWERED         3          NaN  1.605728e+09        NaN     1020   \n",
       "2    ANSWERED         3          NaN  1.605727e+09        NaN     1020   \n",
       "3    ANSWERED         3          NaN  1.605727e+09        NaN     1010   \n",
       "4    ANSWERED         3          NaN  1.605725e+09        NaN     1027   \n",
       "\n",
       "  dstchannel2 origin  destination  \n",
       "0        gvt-   1027   2323423423  \n",
       "1        gvt-   1020      2234234  \n",
       "2        gvt-   1020     53453434  \n",
       "3        gvt-   1010   6455456654  \n",
       "4        gvt-   1027  34254534555  "
      ]
     },
     "execution_count": 177,
     "metadata": {},
     "output_type": "execute_result"
    }
   ],
   "source": [
    "answered_sent_cdr = cdr.loc[cdr['disposition'] == 'ANSWERED']\n",
    "answered_sent_cdr = answered_sent_cdr.loc[answered_sent_cdr['dcontext'] == 'from-internal']\n",
    "answered_sent_cdr['origin'] = answered_sent_cdr['channel2']\n",
    "answered_sent_cdr['destination'] = answered_sent_cdr['dst']\n",
    "answered_sent_cdr = answered_sent_cdr.reset_index()\n",
    "answered_sent_cdr.head()"
   ]
  },
  {
   "cell_type": "code",
   "execution_count": 178,
   "metadata": {},
   "outputs": [
    {
     "data": {
      "text/plain": [
       "<matplotlib.axes._subplots.AxesSubplot at 0x7f2bd3ddb470>"
      ]
     },
     "execution_count": 178,
     "metadata": {},
     "output_type": "execute_result"
    },
    {
     "data": {
      "image/png": "[encoded data removed]",
      "text/plain": [
       "<Figure size 432x288 with 1 Axes>"
      ]
     },
     "metadata": {
      "needs_background": "light"
     },
     "output_type": "display_data"
    }
   ],
   "source": [
    "answered_sent_cdr[['calldate']].groupby(answered_sent_cdr[\"calldate\"].dt.hour+gmt).count().plot(kind=\"bar\")"
   ]
  },
  {
   "cell_type": "code",
   "execution_count": 179,
   "metadata": {},
   "outputs": [
    {
     "data": {
      "text/html": [
       "<div>\n",
       "<style scoped>\n",
       "    .dataframe tbody tr th:only-of-type {\n",
       "        vertical-align: middle;\n",
       "    }\n",
       "\n",
       "    .dataframe tbody tr th {\n",
       "        vertical-align: top;\n",
       "    }\n",
       "\n",
       "    .dataframe thead th {\n",
       "        text-align: right;\n",
       "    }\n",
       "</style>\n",
       "<table border=\"1\" class=\"dataframe\">\n",
       "  <thead>\n",
       "    <tr style=\"text-align: right;\">\n",
       "      <th></th>\n",
       "      <th>calldate</th>\n",
       "      <th>clid</th>\n",
       "      <th>src</th>\n",
       "      <th>dst</th>\n",
       "      <th>dcontext</th>\n",
       "      <th>channel</th>\n",
       "      <th>dstchannel</th>\n",
       "      <th>lastapp</th>\n",
       "      <th>lastdata</th>\n",
       "      <th>duration</th>\n",
       "      <th>billsec</th>\n",
       "      <th>disposition</th>\n",
       "      <th>amaflags</th>\n",
       "      <th>accountcode</th>\n",
       "      <th>uniqueid</th>\n",
       "      <th>userfield</th>\n",
       "      <th>channel2</th>\n",
       "      <th>dstchannel2</th>\n",
       "      <th>origin</th>\n",
       "      <th>destination</th>\n",
       "    </tr>\n",
       "  </thead>\n",
       "  <tbody>\n",
       "    <tr>\n",
       "      <th>0</th>\n",
       "      <td>2020-11-18 19:17:05</td>\n",
       "      <td>\"\" &lt;333333333&gt;</td>\n",
       "      <td>333333333</td>\n",
       "      <td>123123123</td>\n",
       "      <td>from-internal</td>\n",
       "      <td>SIP/1020-00001261</td>\n",
       "      <td>SIP/gvt-vox-00001262</td>\n",
       "      <td>Dial</td>\n",
       "      <td>SIP/gvt-vox/123123123,300,Tb(func-apply-siphea...</td>\n",
       "      <td>27</td>\n",
       "      <td>0</td>\n",
       "      <td>NO ANSWER</td>\n",
       "      <td>3</td>\n",
       "      <td>NaN</td>\n",
       "      <td>1.605727e+09</td>\n",
       "      <td>NaN</td>\n",
       "      <td>1020</td>\n",
       "      <td>gvt-</td>\n",
       "      <td>1020</td>\n",
       "      <td>123123123</td>\n",
       "    </tr>\n",
       "    <tr>\n",
       "      <th>1</th>\n",
       "      <td>2020-11-18 19:12:03</td>\n",
       "      <td>\"\" &lt;333333333&gt;</td>\n",
       "      <td>333333333</td>\n",
       "      <td>343424232432</td>\n",
       "      <td>from-internal</td>\n",
       "      <td>SIP/1011-0000125d</td>\n",
       "      <td>SIP/gvt-vox-0000125e</td>\n",
       "      <td>Dial</td>\n",
       "      <td>SIP/gvt-vox/0343424232432,300,Tb(func-apply-si...</td>\n",
       "      <td>25</td>\n",
       "      <td>0</td>\n",
       "      <td>NO ANSWER</td>\n",
       "      <td>3</td>\n",
       "      <td>NaN</td>\n",
       "      <td>1.605727e+09</td>\n",
       "      <td>NaN</td>\n",
       "      <td>1011</td>\n",
       "      <td>gvt-</td>\n",
       "      <td>1011</td>\n",
       "      <td>343424232432</td>\n",
       "    </tr>\n",
       "    <tr>\n",
       "      <th>2</th>\n",
       "      <td>2020-11-18 19:11:25</td>\n",
       "      <td>\"\" &lt;333333333&gt;</td>\n",
       "      <td>333333333</td>\n",
       "      <td>312331232133</td>\n",
       "      <td>from-internal</td>\n",
       "      <td>SIP/1011-0000125b</td>\n",
       "      <td>SIP/gvt-vox-0000125c</td>\n",
       "      <td>Dial</td>\n",
       "      <td>SIP/gvt-vox/015312331232133,300,Tb(func-apply-...</td>\n",
       "      <td>25</td>\n",
       "      <td>0</td>\n",
       "      <td>NO ANSWER</td>\n",
       "      <td>3</td>\n",
       "      <td>NaN</td>\n",
       "      <td>1.605727e+09</td>\n",
       "      <td>NaN</td>\n",
       "      <td>1011</td>\n",
       "      <td>gvt-</td>\n",
       "      <td>1011</td>\n",
       "      <td>312331232133</td>\n",
       "    </tr>\n",
       "    <tr>\n",
       "      <th>3</th>\n",
       "      <td>2020-11-18 18:41:32</td>\n",
       "      <td>\"\" &lt;333333333&gt;</td>\n",
       "      <td>333333333</td>\n",
       "      <td>24234343434</td>\n",
       "      <td>from-internal</td>\n",
       "      <td>SIP/1027-00001253</td>\n",
       "      <td>SIP/gvt-vox-00001254</td>\n",
       "      <td>Dial</td>\n",
       "      <td>SIP/gvt-vox/01524234343434,300,Tb(func-apply-s...</td>\n",
       "      <td>6</td>\n",
       "      <td>0</td>\n",
       "      <td>NO ANSWER</td>\n",
       "      <td>3</td>\n",
       "      <td>NaN</td>\n",
       "      <td>1.605725e+09</td>\n",
       "      <td>NaN</td>\n",
       "      <td>1027</td>\n",
       "      <td>gvt-</td>\n",
       "      <td>1027</td>\n",
       "      <td>24234343434</td>\n",
       "    </tr>\n",
       "    <tr>\n",
       "      <th>4</th>\n",
       "      <td>2020-11-18 18:41:23</td>\n",
       "      <td>\"\" &lt;333333333&gt;</td>\n",
       "      <td>333333333</td>\n",
       "      <td>24234343434</td>\n",
       "      <td>from-internal</td>\n",
       "      <td>SIP/1027-00001251</td>\n",
       "      <td>SIP/gvt-vox-00001252</td>\n",
       "      <td>Dial</td>\n",
       "      <td>SIP/gvt-vox/01524234343434,300,Tb(func-apply-s...</td>\n",
       "      <td>6</td>\n",
       "      <td>0</td>\n",
       "      <td>NO ANSWER</td>\n",
       "      <td>3</td>\n",
       "      <td>NaN</td>\n",
       "      <td>1.605725e+09</td>\n",
       "      <td>NaN</td>\n",
       "      <td>1027</td>\n",
       "      <td>gvt-</td>\n",
       "      <td>1027</td>\n",
       "      <td>24234343434</td>\n",
       "    </tr>\n",
       "  </tbody>\n",
       "</table>\n",
       "</div>"
      ],
      "text/plain": [
       "             calldate            clid        src           dst       dcontext  \\\n",
       "0 2020-11-18 19:17:05  \"\" <333333333>  333333333     123123123  from-internal   \n",
       "1 2020-11-18 19:12:03  \"\" <333333333>  333333333  343424232432  from-internal   \n",
       "2 2020-11-18 19:11:25  \"\" <333333333>  333333333  312331232133  from-internal   \n",
       "3 2020-11-18 18:41:32  \"\" <333333333>  333333333   24234343434  from-internal   \n",
       "4 2020-11-18 18:41:23  \"\" <333333333>  333333333   24234343434  from-internal   \n",
       "\n",
       "             channel            dstchannel lastapp  \\\n",
       "0  SIP/1020-00001261  SIP/gvt-vox-00001262    Dial   \n",
       "1  SIP/1011-0000125d  SIP/gvt-vox-0000125e    Dial   \n",
       "2  SIP/1011-0000125b  SIP/gvt-vox-0000125c    Dial   \n",
       "3  SIP/1027-00001253  SIP/gvt-vox-00001254    Dial   \n",
       "4  SIP/1027-00001251  SIP/gvt-vox-00001252    Dial   \n",
       "\n",
       "                                            lastdata  duration  billsec  \\\n",
       "0  SIP/gvt-vox/123123123,300,Tb(func-apply-siphea...        27        0   \n",
       "1  SIP/gvt-vox/0343424232432,300,Tb(func-apply-si...        25        0   \n",
       "2  SIP/gvt-vox/015312331232133,300,Tb(func-apply-...        25        0   \n",
       "3  SIP/gvt-vox/01524234343434,300,Tb(func-apply-s...         6        0   \n",
       "4  SIP/gvt-vox/01524234343434,300,Tb(func-apply-s...         6        0   \n",
       "\n",
       "  disposition  amaflags  accountcode      uniqueid  userfield channel2  \\\n",
       "0   NO ANSWER         3          NaN  1.605727e+09        NaN     1020   \n",
       "1   NO ANSWER         3          NaN  1.605727e+09        NaN     1011   \n",
       "2   NO ANSWER         3          NaN  1.605727e+09        NaN     1011   \n",
       "3   NO ANSWER         3          NaN  1.605725e+09        NaN     1027   \n",
       "4   NO ANSWER         3          NaN  1.605725e+09        NaN     1027   \n",
       "\n",
       "  dstchannel2 origin   destination  \n",
       "0        gvt-   1020     123123123  \n",
       "1        gvt-   1011  343424232432  \n",
       "2        gvt-   1011  312331232133  \n",
       "3        gvt-   1027   24234343434  \n",
       "4        gvt-   1027   24234343434  "
      ]
     },
     "execution_count": 179,
     "metadata": {},
     "output_type": "execute_result"
    }
   ],
   "source": [
    "unanswered_sent_cdr = cdr.loc[cdr['disposition'] == 'NO ANSWER']\n",
    "unanswered_sent_cdr = unanswered_sent_cdr.loc[unanswered_sent_cdr['dcontext'] == 'from-internal']\n",
    "unanswered_sent_cdr['origin'] = unanswered_sent_cdr['channel2']\n",
    "unanswered_sent_cdr['destination'] = unanswered_sent_cdr['dst']\n",
    "unanswered_sent_cdr = unanswered_sent_cdr.reset_index()\n",
    "unanswered_sent_cdr.head()"
   ]
  },
  {
   "cell_type": "code",
   "execution_count": 180,
   "metadata": {},
   "outputs": [
    {
     "data": {
      "text/plain": [
       "<matplotlib.axes._subplots.AxesSubplot at 0x7f2bd3db9208>"
      ]
     },
     "execution_count": 180,
     "metadata": {},
     "output_type": "execute_result"
    },
    {
     "data": {
      "image/png": "[encoded data removed]",
      "text/plain": [
       "<Figure size 432x288 with 1 Axes>"
      ]
     },
     "metadata": {
      "needs_background": "light"
     },
     "output_type": "display_data"
    }
   ],
   "source": [
    "unanswered_sent_cdr[['calldate']].groupby(unanswered_sent_cdr[\"calldate\"].dt.hour+gmt).count().plot(kind=\"bar\")"
   ]
  },
  {
   "cell_type": "code",
   "execution_count": 181,
   "metadata": {},
   "outputs": [
    {
     "data": {
      "text/html": [
       "<div>\n",
       "<style scoped>\n",
       "    .dataframe tbody tr th:only-of-type {\n",
       "        vertical-align: middle;\n",
       "    }\n",
       "\n",
       "    .dataframe tbody tr th {\n",
       "        vertical-align: top;\n",
       "    }\n",
       "\n",
       "    .dataframe thead th {\n",
       "        text-align: right;\n",
       "    }\n",
       "</style>\n",
       "<table border=\"1\" class=\"dataframe\">\n",
       "  <thead>\n",
       "    <tr style=\"text-align: right;\">\n",
       "      <th></th>\n",
       "      <th>calldate</th>\n",
       "      <th>clid</th>\n",
       "      <th>src</th>\n",
       "      <th>dst</th>\n",
       "      <th>dcontext</th>\n",
       "      <th>channel</th>\n",
       "      <th>dstchannel</th>\n",
       "      <th>lastapp</th>\n",
       "      <th>lastdata</th>\n",
       "      <th>duration</th>\n",
       "      <th>billsec</th>\n",
       "      <th>disposition</th>\n",
       "      <th>amaflags</th>\n",
       "      <th>accountcode</th>\n",
       "      <th>uniqueid</th>\n",
       "      <th>userfield</th>\n",
       "      <th>channel2</th>\n",
       "      <th>dstchannel2</th>\n",
       "      <th>origin</th>\n",
       "      <th>destination</th>\n",
       "    </tr>\n",
       "  </thead>\n",
       "  <tbody>\n",
       "    <tr>\n",
       "      <th>0</th>\n",
       "      <td>2020-11-18 18:20:33</td>\n",
       "      <td>\"224422411144\" &lt;224422411144&gt;</td>\n",
       "      <td>224422411144</td>\n",
       "      <td>1111</td>\n",
       "      <td>ext-group</td>\n",
       "      <td>SIP/333333333-0000124c</td>\n",
       "      <td>SIP/1011-0000124e</td>\n",
       "      <td>Dial</td>\n",
       "      <td>SIP/1000&amp;SIP/1011&amp;SIP/1013,60,HhtrM(auto-blkvm...</td>\n",
       "      <td>80</td>\n",
       "      <td>70</td>\n",
       "      <td>ANSWERED</td>\n",
       "      <td>3</td>\n",
       "      <td>NaN</td>\n",
       "      <td>1.605724e+09</td>\n",
       "      <td>NaN</td>\n",
       "      <td>3333</td>\n",
       "      <td>1011</td>\n",
       "      <td>224422411144</td>\n",
       "      <td>1011</td>\n",
       "    </tr>\n",
       "  </tbody>\n",
       "</table>\n",
       "</div>"
      ],
      "text/plain": [
       "             calldate                           clid           src   dst  \\\n",
       "0 2020-11-18 18:20:33  \"224422411144\" <224422411144>  224422411144  1111   \n",
       "\n",
       "    dcontext                 channel         dstchannel lastapp  \\\n",
       "0  ext-group  SIP/333333333-0000124c  SIP/1011-0000124e    Dial   \n",
       "\n",
       "                                            lastdata  duration  billsec  \\\n",
       "0  SIP/1000&SIP/1011&SIP/1013,60,HhtrM(auto-blkvm...        80       70   \n",
       "\n",
       "  disposition  amaflags  accountcode      uniqueid  userfield channel2  \\\n",
       "0    ANSWERED         3          NaN  1.605724e+09        NaN     3333   \n",
       "\n",
       "  dstchannel2        origin destination  \n",
       "0        1011  224422411144        1011  "
      ]
     },
     "execution_count": 181,
     "metadata": {},
     "output_type": "execute_result"
    }
   ],
   "source": [
    "answered_recv_cdr = cdr.loc[cdr['disposition'] == 'ANSWERED']\n",
    "answered_recv_cdr = answered_recv_cdr.loc[answered_recv_cdr['dcontext'] == 'ext-group']\n",
    "answered_recv_cdr['origin'] = answered_recv_cdr['src']\n",
    "answered_recv_cdr['destination'] = answered_recv_cdr['dstchannel2']\n",
    "answered_recv_cdr = answered_recv_cdr.reset_index()\n",
    "answered_recv_cdr.head()"
   ]
  },
  {
   "cell_type": "code",
   "execution_count": 182,
   "metadata": {},
   "outputs": [
    {
     "data": {
      "text/plain": [
       "<matplotlib.axes._subplots.AxesSubplot at 0x7f2bd3d2cd68>"
      ]
     },
     "execution_count": 182,
     "metadata": {},
     "output_type": "execute_result"
    },
    {
     "data": {
      "image/png": "[encoded data removed]",
      "text/plain": [
       "<Figure size 432x288 with 1 Axes>"
      ]
     },
     "metadata": {
      "needs_background": "light"
     },
     "output_type": "display_data"
    }
   ],
   "source": [
    "answered_recv_cdr[['calldate']].groupby(answered_recv_cdr[\"calldate\"].dt.hour+gmt).count().plot(kind=\"bar\")"
   ]
  },
  {
   "cell_type": "code",
   "execution_count": 183,
   "metadata": {},
   "outputs": [
    {
     "data": {
      "text/html": [
       "<div>\n",
       "<style scoped>\n",
       "    .dataframe tbody tr th:only-of-type {\n",
       "        vertical-align: middle;\n",
       "    }\n",
       "\n",
       "    .dataframe tbody tr th {\n",
       "        vertical-align: top;\n",
       "    }\n",
       "\n",
       "    .dataframe thead th {\n",
       "        text-align: right;\n",
       "    }\n",
       "</style>\n",
       "<table border=\"1\" class=\"dataframe\">\n",
       "  <thead>\n",
       "    <tr style=\"text-align: right;\">\n",
       "      <th></th>\n",
       "      <th>calldate</th>\n",
       "      <th>clid</th>\n",
       "      <th>src</th>\n",
       "      <th>dst</th>\n",
       "      <th>dcontext</th>\n",
       "      <th>channel</th>\n",
       "      <th>dstchannel</th>\n",
       "      <th>lastapp</th>\n",
       "      <th>lastdata</th>\n",
       "      <th>duration</th>\n",
       "      <th>billsec</th>\n",
       "      <th>disposition</th>\n",
       "      <th>amaflags</th>\n",
       "      <th>accountcode</th>\n",
       "      <th>uniqueid</th>\n",
       "      <th>userfield</th>\n",
       "      <th>channel2</th>\n",
       "      <th>dstchannel2</th>\n",
       "      <th>origin</th>\n",
       "      <th>destination</th>\n",
       "    </tr>\n",
       "  </thead>\n",
       "  <tbody>\n",
       "    <tr>\n",
       "      <th>0</th>\n",
       "      <td>2020-11-18 21:11:10</td>\n",
       "      <td>\"22222222222\" &lt;22222222222&gt;</td>\n",
       "      <td>22222222222</td>\n",
       "      <td>1111</td>\n",
       "      <td>ext-group</td>\n",
       "      <td>SIP/333333333-0000126b</td>\n",
       "      <td>SIP/1000-0000126c</td>\n",
       "      <td>Dial</td>\n",
       "      <td>SIP/1000&amp;SIP/1011&amp;SIP/1013,60,HhtrM(auto-blkvm...</td>\n",
       "      <td>51</td>\n",
       "      <td>0</td>\n",
       "      <td>NO ANSWER</td>\n",
       "      <td>3</td>\n",
       "      <td>NaN</td>\n",
       "      <td>1.605734e+09</td>\n",
       "      <td>NaN</td>\n",
       "      <td>3333</td>\n",
       "      <td>1000</td>\n",
       "      <td>22222222222</td>\n",
       "      <td>1000</td>\n",
       "    </tr>\n",
       "    <tr>\n",
       "      <th>1</th>\n",
       "      <td>2020-11-18 21:09:30</td>\n",
       "      <td>\"22222222222\" &lt;22222222222&gt;</td>\n",
       "      <td>22222222222</td>\n",
       "      <td>1111</td>\n",
       "      <td>ext-group</td>\n",
       "      <td>SIP/333333333-00001269</td>\n",
       "      <td>SIP/1000-0000126a</td>\n",
       "      <td>Dial</td>\n",
       "      <td>SIP/1000&amp;SIP/1011&amp;SIP/1013,60,HhtrM(auto-blkvm...</td>\n",
       "      <td>52</td>\n",
       "      <td>0</td>\n",
       "      <td>NO ANSWER</td>\n",
       "      <td>3</td>\n",
       "      <td>NaN</td>\n",
       "      <td>1.605734e+09</td>\n",
       "      <td>NaN</td>\n",
       "      <td>3333</td>\n",
       "      <td>1000</td>\n",
       "      <td>22222222222</td>\n",
       "      <td>1000</td>\n",
       "    </tr>\n",
       "    <tr>\n",
       "      <th>2</th>\n",
       "      <td>2020-11-18 18:20:33</td>\n",
       "      <td>\"224422411144\" &lt;224422411144&gt;</td>\n",
       "      <td>224422411144</td>\n",
       "      <td>1111</td>\n",
       "      <td>ext-group</td>\n",
       "      <td>SIP/333333333-0000124c</td>\n",
       "      <td>SIP/1000-0000124d</td>\n",
       "      <td>Dial</td>\n",
       "      <td>SIP/1000&amp;SIP/1011&amp;SIP/1013,60,HhtrM(auto-blkvm...</td>\n",
       "      <td>10</td>\n",
       "      <td>0</td>\n",
       "      <td>NO ANSWER</td>\n",
       "      <td>3</td>\n",
       "      <td>NaN</td>\n",
       "      <td>1.605724e+09</td>\n",
       "      <td>NaN</td>\n",
       "      <td>3333</td>\n",
       "      <td>1000</td>\n",
       "      <td>224422411144</td>\n",
       "      <td>1000</td>\n",
       "    </tr>\n",
       "    <tr>\n",
       "      <th>3</th>\n",
       "      <td>2020-11-18 18:11:27</td>\n",
       "      <td>\"224422411144\" &lt;224422411144&gt;</td>\n",
       "      <td>224422411144</td>\n",
       "      <td>1111</td>\n",
       "      <td>ext-group</td>\n",
       "      <td>SIP/333333333-0000124a</td>\n",
       "      <td>SIP/1000-0000124b</td>\n",
       "      <td>Dial</td>\n",
       "      <td>SIP/1000&amp;SIP/1011&amp;SIP/1013,60,HhtrM(auto-blkvm...</td>\n",
       "      <td>48</td>\n",
       "      <td>0</td>\n",
       "      <td>NO ANSWER</td>\n",
       "      <td>3</td>\n",
       "      <td>NaN</td>\n",
       "      <td>1.605723e+09</td>\n",
       "      <td>NaN</td>\n",
       "      <td>3333</td>\n",
       "      <td>1000</td>\n",
       "      <td>224422411144</td>\n",
       "      <td>1000</td>\n",
       "    </tr>\n",
       "    <tr>\n",
       "      <th>4</th>\n",
       "      <td>2020-11-18 17:42:57</td>\n",
       "      <td>\"53252352555\" &lt;53252352555&gt;</td>\n",
       "      <td>53252352555</td>\n",
       "      <td>1111</td>\n",
       "      <td>ext-group</td>\n",
       "      <td>SIP/333333333-0000123d</td>\n",
       "      <td>SIP/1000-0000123e</td>\n",
       "      <td>Dial</td>\n",
       "      <td>SIP/1000&amp;SIP/1011&amp;SIP/1013,60,HhtrM(auto-blkvm...</td>\n",
       "      <td>60</td>\n",
       "      <td>0</td>\n",
       "      <td>NO ANSWER</td>\n",
       "      <td>3</td>\n",
       "      <td>NaN</td>\n",
       "      <td>1.605721e+09</td>\n",
       "      <td>NaN</td>\n",
       "      <td>3333</td>\n",
       "      <td>1000</td>\n",
       "      <td>53252352555</td>\n",
       "      <td>1000</td>\n",
       "    </tr>\n",
       "  </tbody>\n",
       "</table>\n",
       "</div>"
      ],
      "text/plain": [
       "             calldate                           clid           src   dst  \\\n",
       "0 2020-11-18 21:11:10    \"22222222222\" <22222222222>   22222222222  1111   \n",
       "1 2020-11-18 21:09:30    \"22222222222\" <22222222222>   22222222222  1111   \n",
       "2 2020-11-18 18:20:33  \"224422411144\" <224422411144>  224422411144  1111   \n",
       "3 2020-11-18 18:11:27  \"224422411144\" <224422411144>  224422411144  1111   \n",
       "4 2020-11-18 17:42:57    \"53252352555\" <53252352555>   53252352555  1111   \n",
       "\n",
       "    dcontext                 channel         dstchannel lastapp  \\\n",
       "0  ext-group  SIP/333333333-0000126b  SIP/1000-0000126c    Dial   \n",
       "1  ext-group  SIP/333333333-00001269  SIP/1000-0000126a    Dial   \n",
       "2  ext-group  SIP/333333333-0000124c  SIP/1000-0000124d    Dial   \n",
       "3  ext-group  SIP/333333333-0000124a  SIP/1000-0000124b    Dial   \n",
       "4  ext-group  SIP/333333333-0000123d  SIP/1000-0000123e    Dial   \n",
       "\n",
       "                                            lastdata  duration  billsec  \\\n",
       "0  SIP/1000&SIP/1011&SIP/1013,60,HhtrM(auto-blkvm...        51        0   \n",
       "1  SIP/1000&SIP/1011&SIP/1013,60,HhtrM(auto-blkvm...        52        0   \n",
       "2  SIP/1000&SIP/1011&SIP/1013,60,HhtrM(auto-blkvm...        10        0   \n",
       "3  SIP/1000&SIP/1011&SIP/1013,60,HhtrM(auto-blkvm...        48        0   \n",
       "4  SIP/1000&SIP/1011&SIP/1013,60,HhtrM(auto-blkvm...        60        0   \n",
       "\n",
       "  disposition  amaflags  accountcode      uniqueid  userfield channel2  \\\n",
       "0   NO ANSWER         3          NaN  1.605734e+09        NaN     3333   \n",
       "1   NO ANSWER         3          NaN  1.605734e+09        NaN     3333   \n",
       "2   NO ANSWER         3          NaN  1.605724e+09        NaN     3333   \n",
       "3   NO ANSWER         3          NaN  1.605723e+09        NaN     3333   \n",
       "4   NO ANSWER         3          NaN  1.605721e+09        NaN     3333   \n",
       "\n",
       "  dstchannel2        origin destination  \n",
       "0        1000   22222222222        1000  \n",
       "1        1000   22222222222        1000  \n",
       "2        1000  224422411144        1000  \n",
       "3        1000  224422411144        1000  \n",
       "4        1000   53252352555        1000  "
      ]
     },
     "execution_count": 183,
     "metadata": {},
     "output_type": "execute_result"
    }
   ],
   "source": [
    "unanswered_recv_cdr = cdr.loc[cdr['disposition'] == 'NO ANSWER']\n",
    "unanswered_recv_cdr = unanswered_recv_cdr.loc[unanswered_recv_cdr['dcontext'] == 'ext-group']\n",
    "unanswered_recv_cdr['origin'] = unanswered_recv_cdr['src']\n",
    "unanswered_recv_cdr['destination'] = unanswered_recv_cdr['dstchannel2']\n",
    "unanswered_recv_cdr = unanswered_recv_cdr.reset_index()\n",
    "unanswered_recv_cdr.head(5)"
   ]
  },
  {
   "cell_type": "markdown",
   "metadata": {},
   "source": [
    "#### Remove answered by another extension on the same group"
   ]
  },
  {
   "cell_type": "code",
   "execution_count": 184,
   "metadata": {},
   "outputs": [
    {
     "name": "stdout",
     "output_type": "stream",
     "text": [
      "8\n",
      "7\n",
      "7\n"
     ]
    },
    {
     "data": {
      "text/html": [
       "<div>\n",
       "<style scoped>\n",
       "    .dataframe tbody tr th:only-of-type {\n",
       "        vertical-align: middle;\n",
       "    }\n",
       "\n",
       "    .dataframe tbody tr th {\n",
       "        vertical-align: top;\n",
       "    }\n",
       "\n",
       "    .dataframe thead th {\n",
       "        text-align: right;\n",
       "    }\n",
       "</style>\n",
       "<table border=\"1\" class=\"dataframe\">\n",
       "  <thead>\n",
       "    <tr style=\"text-align: right;\">\n",
       "      <th></th>\n",
       "      <th>calldate</th>\n",
       "      <th>clid</th>\n",
       "      <th>src</th>\n",
       "      <th>dst</th>\n",
       "      <th>dcontext</th>\n",
       "      <th>channel</th>\n",
       "      <th>dstchannel</th>\n",
       "      <th>lastapp</th>\n",
       "      <th>lastdata</th>\n",
       "      <th>duration</th>\n",
       "      <th>billsec</th>\n",
       "      <th>disposition</th>\n",
       "      <th>amaflags</th>\n",
       "      <th>accountcode</th>\n",
       "      <th>uniqueid</th>\n",
       "      <th>userfield</th>\n",
       "      <th>channel2</th>\n",
       "      <th>dstchannel2</th>\n",
       "      <th>origin</th>\n",
       "      <th>destination</th>\n",
       "    </tr>\n",
       "  </thead>\n",
       "  <tbody>\n",
       "    <tr>\n",
       "      <th>0</th>\n",
       "      <td>2020-11-18 21:11:10</td>\n",
       "      <td>\"22222222222\" &lt;22222222222&gt;</td>\n",
       "      <td>22222222222</td>\n",
       "      <td>1111</td>\n",
       "      <td>ext-group</td>\n",
       "      <td>SIP/333333333-0000126b</td>\n",
       "      <td>SIP/1000-0000126c</td>\n",
       "      <td>Dial</td>\n",
       "      <td>SIP/1000&amp;SIP/1011&amp;SIP/1013,60,HhtrM(auto-blkvm...</td>\n",
       "      <td>51</td>\n",
       "      <td>0</td>\n",
       "      <td>NO ANSWER</td>\n",
       "      <td>3</td>\n",
       "      <td>NaN</td>\n",
       "      <td>1.605734e+09</td>\n",
       "      <td>NaN</td>\n",
       "      <td>3333</td>\n",
       "      <td>1000</td>\n",
       "      <td>22222222222</td>\n",
       "      <td>1000</td>\n",
       "    </tr>\n",
       "    <tr>\n",
       "      <th>1</th>\n",
       "      <td>2020-11-18 21:09:30</td>\n",
       "      <td>\"22222222222\" &lt;22222222222&gt;</td>\n",
       "      <td>22222222222</td>\n",
       "      <td>1111</td>\n",
       "      <td>ext-group</td>\n",
       "      <td>SIP/333333333-00001269</td>\n",
       "      <td>SIP/1000-0000126a</td>\n",
       "      <td>Dial</td>\n",
       "      <td>SIP/1000&amp;SIP/1011&amp;SIP/1013,60,HhtrM(auto-blkvm...</td>\n",
       "      <td>52</td>\n",
       "      <td>0</td>\n",
       "      <td>NO ANSWER</td>\n",
       "      <td>3</td>\n",
       "      <td>NaN</td>\n",
       "      <td>1.605734e+09</td>\n",
       "      <td>NaN</td>\n",
       "      <td>3333</td>\n",
       "      <td>1000</td>\n",
       "      <td>22222222222</td>\n",
       "      <td>1000</td>\n",
       "    </tr>\n",
       "    <tr>\n",
       "      <th>3</th>\n",
       "      <td>2020-11-18 18:11:27</td>\n",
       "      <td>\"224422411144\" &lt;224422411144&gt;</td>\n",
       "      <td>224422411144</td>\n",
       "      <td>1111</td>\n",
       "      <td>ext-group</td>\n",
       "      <td>SIP/333333333-0000124a</td>\n",
       "      <td>SIP/1000-0000124b</td>\n",
       "      <td>Dial</td>\n",
       "      <td>SIP/1000&amp;SIP/1011&amp;SIP/1013,60,HhtrM(auto-blkvm...</td>\n",
       "      <td>48</td>\n",
       "      <td>0</td>\n",
       "      <td>NO ANSWER</td>\n",
       "      <td>3</td>\n",
       "      <td>NaN</td>\n",
       "      <td>1.605723e+09</td>\n",
       "      <td>NaN</td>\n",
       "      <td>3333</td>\n",
       "      <td>1000</td>\n",
       "      <td>224422411144</td>\n",
       "      <td>1000</td>\n",
       "    </tr>\n",
       "    <tr>\n",
       "      <th>4</th>\n",
       "      <td>2020-11-18 17:42:57</td>\n",
       "      <td>\"53252352555\" &lt;53252352555&gt;</td>\n",
       "      <td>53252352555</td>\n",
       "      <td>1111</td>\n",
       "      <td>ext-group</td>\n",
       "      <td>SIP/333333333-0000123d</td>\n",
       "      <td>SIP/1000-0000123e</td>\n",
       "      <td>Dial</td>\n",
       "      <td>SIP/1000&amp;SIP/1011&amp;SIP/1013,60,HhtrM(auto-blkvm...</td>\n",
       "      <td>60</td>\n",
       "      <td>0</td>\n",
       "      <td>NO ANSWER</td>\n",
       "      <td>3</td>\n",
       "      <td>NaN</td>\n",
       "      <td>1.605721e+09</td>\n",
       "      <td>NaN</td>\n",
       "      <td>3333</td>\n",
       "      <td>1000</td>\n",
       "      <td>53252352555</td>\n",
       "      <td>1000</td>\n",
       "    </tr>\n",
       "    <tr>\n",
       "      <th>5</th>\n",
       "      <td>2020-11-18 17:35:59</td>\n",
       "      <td>\"53252352555\" &lt;53252352555&gt;</td>\n",
       "      <td>53252352555</td>\n",
       "      <td>1111</td>\n",
       "      <td>ext-group</td>\n",
       "      <td>SIP/333333333-0000123b</td>\n",
       "      <td>SIP/1000-0000123c</td>\n",
       "      <td>Dial</td>\n",
       "      <td>SIP/1000&amp;SIP/1011&amp;SIP/1013,60,HhtrM(auto-blkvm...</td>\n",
       "      <td>49</td>\n",
       "      <td>0</td>\n",
       "      <td>NO ANSWER</td>\n",
       "      <td>3</td>\n",
       "      <td>NaN</td>\n",
       "      <td>1.605721e+09</td>\n",
       "      <td>NaN</td>\n",
       "      <td>3333</td>\n",
       "      <td>1000</td>\n",
       "      <td>53252352555</td>\n",
       "      <td>1000</td>\n",
       "    </tr>\n",
       "  </tbody>\n",
       "</table>\n",
       "</div>"
      ],
      "text/plain": [
       "             calldate                           clid           src   dst  \\\n",
       "0 2020-11-18 21:11:10    \"22222222222\" <22222222222>   22222222222  1111   \n",
       "1 2020-11-18 21:09:30    \"22222222222\" <22222222222>   22222222222  1111   \n",
       "3 2020-11-18 18:11:27  \"224422411144\" <224422411144>  224422411144  1111   \n",
       "4 2020-11-18 17:42:57    \"53252352555\" <53252352555>   53252352555  1111   \n",
       "5 2020-11-18 17:35:59    \"53252352555\" <53252352555>   53252352555  1111   \n",
       "\n",
       "    dcontext                 channel         dstchannel lastapp  \\\n",
       "0  ext-group  SIP/333333333-0000126b  SIP/1000-0000126c    Dial   \n",
       "1  ext-group  SIP/333333333-00001269  SIP/1000-0000126a    Dial   \n",
       "3  ext-group  SIP/333333333-0000124a  SIP/1000-0000124b    Dial   \n",
       "4  ext-group  SIP/333333333-0000123d  SIP/1000-0000123e    Dial   \n",
       "5  ext-group  SIP/333333333-0000123b  SIP/1000-0000123c    Dial   \n",
       "\n",
       "                                            lastdata  duration  billsec  \\\n",
       "0  SIP/1000&SIP/1011&SIP/1013,60,HhtrM(auto-blkvm...        51        0   \n",
       "1  SIP/1000&SIP/1011&SIP/1013,60,HhtrM(auto-blkvm...        52        0   \n",
       "3  SIP/1000&SIP/1011&SIP/1013,60,HhtrM(auto-blkvm...        48        0   \n",
       "4  SIP/1000&SIP/1011&SIP/1013,60,HhtrM(auto-blkvm...        60        0   \n",
       "5  SIP/1000&SIP/1011&SIP/1013,60,HhtrM(auto-blkvm...        49        0   \n",
       "\n",
       "  disposition  amaflags  accountcode      uniqueid  userfield channel2  \\\n",
       "0   NO ANSWER         3          NaN  1.605734e+09        NaN     3333   \n",
       "1   NO ANSWER         3          NaN  1.605734e+09        NaN     3333   \n",
       "3   NO ANSWER         3          NaN  1.605723e+09        NaN     3333   \n",
       "4   NO ANSWER         3          NaN  1.605721e+09        NaN     3333   \n",
       "5   NO ANSWER         3          NaN  1.605721e+09        NaN     3333   \n",
       "\n",
       "  dstchannel2        origin destination  \n",
       "0        1000   22222222222        1000  \n",
       "1        1000   22222222222        1000  \n",
       "3        1000  224422411144        1000  \n",
       "4        1000   53252352555        1000  \n",
       "5        1000   53252352555        1000  "
      ]
     },
     "execution_count": 184,
     "metadata": {},
     "output_type": "execute_result"
    }
   ],
   "source": [
    "# s = pd.merge(unanswered_recv_cdr, answered_recv_cdr, indicator=True, how='outer')\n",
    "print(len(unanswered_recv_cdr))\n",
    "unanswered_recv_cdr = unanswered_recv_cdr[~unanswered_recv_cdr.calldate.isin(answered_recv_cdr.calldate)]\n",
    "print(len(unanswered_recv_cdr))\n",
    "unanswered_recv_cdr = unanswered_recv_cdr.drop_duplicates(subset='calldate', keep='first', inplace=False)\n",
    "print(len(unanswered_recv_cdr))\n",
    "unanswered_recv_cdr.head(5)"
   ]
  },
  {
   "cell_type": "code",
   "execution_count": 185,
   "metadata": {},
   "outputs": [
    {
     "data": {
      "text/plain": [
       "<matplotlib.axes._subplots.AxesSubplot at 0x7f2bd3d0d6a0>"
      ]
     },
     "execution_count": 185,
     "metadata": {},
     "output_type": "execute_result"
    },
    {
     "data": {
      "image/png": "[encoded data removed]",
      "text/plain": [
       "<Figure size 432x288 with 1 Axes>"
      ]
     },
     "metadata": {
      "needs_background": "light"
     },
     "output_type": "display_data"
    }
   ],
   "source": [
    "unanswered_recv_cdr[['calldate']].groupby(unanswered_recv_cdr[\"calldate\"].dt.hour+gmt).count().plot(kind=\"bar\")"
   ]
  },
  {
   "cell_type": "code",
   "execution_count": 186,
   "metadata": {},
   "outputs": [
    {
     "name": "stdout",
     "output_type": "stream",
     "text": [
      "Recv answer ratio per hour\n"
     ]
    },
    {
     "data": {
      "text/plain": [
       "<matplotlib.axes._subplots.AxesSubplot at 0x7f2bd3c82908>"
      ]
     },
     "execution_count": 186,
     "metadata": {},
     "output_type": "execute_result"
    },
    {
     "data": {
      "image/png": "[encoded data removed]",
      "text/plain": [
       "<Figure size 432x288 with 1 Axes>"
      ]
     },
     "metadata": {
      "needs_background": "light"
     },
     "output_type": "display_data"
    }
   ],
   "source": [
    "print('Recv answer ratio per hour')\n",
    "ar = answered_recv_cdr\n",
    "ur = unanswered_recv_cdr\n",
    "a = ar[['calldate']].groupby(ar[\"calldate\"].dt.hour+gmt).count()\n",
    "u = ur[['calldate']].groupby(ur[\"calldate\"].dt.hour+gmt).count()\n",
    "(a/(u+a)).plot(kind=\"bar\")"
   ]
  },
  {
   "cell_type": "code",
   "execution_count": 187,
   "metadata": {},
   "outputs": [
    {
     "data": {
      "text/plain": [
       "5265.952380952381"
      ]
     },
     "execution_count": 187,
     "metadata": {},
     "output_type": "execute_result"
    }
   ],
   "source": [
    "period_total_time = (cdr.index.max()-cdr.index.min()).total_seconds()\n",
    "period_work_time = period_total_time * (5/7) * (8/24)\n",
    "period_work_time"
   ]
  },
  {
   "cell_type": "code",
   "execution_count": 188,
   "metadata": {},
   "outputs": [
    {
     "data": {
      "text/plain": [
       "0.18284556878306876"
      ]
     },
     "execution_count": 188,
     "metadata": {},
     "output_type": "execute_result"
    }
   ],
   "source": [
    "period_work_days = period_work_time/(8*60*60)\n",
    "period_work_days"
   ]
  },
  {
   "cell_type": "markdown",
   "metadata": {},
   "source": [
    "## Answered calls count"
   ]
  },
  {
   "cell_type": "code",
   "execution_count": 189,
   "metadata": {},
   "outputs": [
    {
     "data": {
      "text/plain": [
       "14"
      ]
     },
     "execution_count": 189,
     "metadata": {},
     "output_type": "execute_result"
    }
   ],
   "source": [
    "answered_calls_count = answered_sent_cdr['src'].count() + answered_recv_cdr['src'].count()\n",
    "answered_calls_count"
   ]
  },
  {
   "cell_type": "code",
   "execution_count": 190,
   "metadata": {},
   "outputs": [
    {
     "data": {
      "text/plain": [
       "76.56734638513362"
      ]
     },
     "execution_count": 190,
     "metadata": {},
     "output_type": "execute_result"
    }
   ],
   "source": [
    "calls_per_day = answered_calls_count/period_work_days\n",
    "calls_per_day"
   ]
  },
  {
   "cell_type": "markdown",
   "metadata": {},
   "source": [
    "## Answered calls sent"
   ]
  },
  {
   "cell_type": "code",
   "execution_count": 191,
   "metadata": {},
   "outputs": [
    {
     "data": {
      "text/plain": [
       "13"
      ]
     },
     "execution_count": 191,
     "metadata": {},
     "output_type": "execute_result"
    }
   ],
   "source": [
    "answered_calls_sent = answered_sent_cdr['origin'].count()\n",
    "answered_calls_sent"
   ]
  },
  {
   "cell_type": "code",
   "execution_count": 192,
   "metadata": {},
   "outputs": [
    {
     "data": {
      "text/plain": [
       "71.09825021476694"
      ]
     },
     "execution_count": 192,
     "metadata": {},
     "output_type": "execute_result"
    }
   ],
   "source": [
    "answered_calls_sent/period_work_days"
   ]
  },
  {
   "cell_type": "code",
   "execution_count": 193,
   "metadata": {},
   "outputs": [
    {
     "data": {
      "text/plain": [
       "0.65"
      ]
     },
     "execution_count": 193,
     "metadata": {},
     "output_type": "execute_result"
    }
   ],
   "source": [
    "answered_sent_cdr['origin'].count()/(unanswered_sent_cdr['origin'].count()+answered_sent_cdr['origin'].count())"
   ]
  },
  {
   "cell_type": "markdown",
   "metadata": {},
   "source": [
    "## Unanswered calls sent"
   ]
  },
  {
   "cell_type": "code",
   "execution_count": 194,
   "metadata": {},
   "outputs": [
    {
     "data": {
      "text/plain": [
       "7"
      ]
     },
     "execution_count": 194,
     "metadata": {},
     "output_type": "execute_result"
    }
   ],
   "source": [
    "unanswered_sent_cdr['origin'].count()"
   ]
  },
  {
   "cell_type": "code",
   "execution_count": 195,
   "metadata": {},
   "outputs": [
    {
     "data": {
      "text/plain": [
       "38.28367319256681"
      ]
     },
     "execution_count": 195,
     "metadata": {},
     "output_type": "execute_result"
    }
   ],
   "source": [
    "unanswered_calls_sent = unanswered_sent_cdr['origin'].count()\n",
    "unanswered_calls_sent/period_work_days"
   ]
  },
  {
   "cell_type": "markdown",
   "metadata": {},
   "source": [
    "## Answered calls received"
   ]
  },
  {
   "cell_type": "code",
   "execution_count": 196,
   "metadata": {},
   "outputs": [
    {
     "data": {
      "text/plain": [
       "1"
      ]
     },
     "execution_count": 196,
     "metadata": {},
     "output_type": "execute_result"
    }
   ],
   "source": [
    "answered_calls_recv = answered_recv_cdr['destination'].count()\n",
    "answered_calls_recv"
   ]
  },
  {
   "cell_type": "code",
   "execution_count": 197,
   "metadata": {},
   "outputs": [
    {
     "data": {
      "text/plain": [
       "5.4690961703666865"
      ]
     },
     "execution_count": 197,
     "metadata": {},
     "output_type": "execute_result"
    }
   ],
   "source": [
    "answered_calls_recv/period_work_days"
   ]
  },
  {
   "cell_type": "markdown",
   "metadata": {},
   "source": [
    "## Unanswered calls received"
   ]
  },
  {
   "cell_type": "code",
   "execution_count": 198,
   "metadata": {},
   "outputs": [
    {
     "data": {
      "text/plain": [
       "7"
      ]
     },
     "execution_count": 198,
     "metadata": {},
     "output_type": "execute_result"
    }
   ],
   "source": [
    "unanswered_recv_cdr['destination'].count()"
   ]
  },
  {
   "cell_type": "code",
   "execution_count": 199,
   "metadata": {},
   "outputs": [
    {
     "data": {
      "text/plain": [
       "0    1000\n",
       "1    1000\n",
       "3    1000\n",
       "4    1000\n",
       "5    1000\n",
       "6    1000\n",
       "7    1000\n",
       "Name: destination, dtype: object"
      ]
     },
     "execution_count": 199,
     "metadata": {},
     "output_type": "execute_result"
    }
   ],
   "source": [
    "unanswered_recv_cdr['destination']"
   ]
  },
  {
   "cell_type": "code",
   "execution_count": 200,
   "metadata": {},
   "outputs": [
    {
     "data": {
      "text/plain": [
       "0.875"
      ]
     },
     "execution_count": 200,
     "metadata": {},
     "output_type": "execute_result"
    }
   ],
   "source": [
    "unanswered_recv_cdr['destination'].count()/(answered_recv_cdr['destination'].count() + unanswered_recv_cdr['destination'].count())"
   ]
  },
  {
   "cell_type": "markdown",
   "metadata": {},
   "source": [
    "## Extensions that made most calls"
   ]
  },
  {
   "cell_type": "code",
   "execution_count": 201,
   "metadata": {},
   "outputs": [
    {
     "data": {
      "text/html": [
       "<div>\n",
       "<style scoped>\n",
       "    .dataframe tbody tr th:only-of-type {\n",
       "        vertical-align: middle;\n",
       "    }\n",
       "\n",
       "    .dataframe tbody tr th {\n",
       "        vertical-align: top;\n",
       "    }\n",
       "\n",
       "    .dataframe thead th {\n",
       "        text-align: right;\n",
       "    }\n",
       "</style>\n",
       "<table border=\"1\" class=\"dataframe\">\n",
       "  <thead>\n",
       "    <tr style=\"text-align: right;\">\n",
       "      <th></th>\n",
       "      <th>destination</th>\n",
       "    </tr>\n",
       "    <tr>\n",
       "      <th>origin</th>\n",
       "      <th></th>\n",
       "    </tr>\n",
       "  </thead>\n",
       "  <tbody>\n",
       "    <tr>\n",
       "      <th>1027</th>\n",
       "      <td>7</td>\n",
       "    </tr>\n",
       "    <tr>\n",
       "      <th>1010</th>\n",
       "      <td>3</td>\n",
       "    </tr>\n",
       "    <tr>\n",
       "      <th>1020</th>\n",
       "      <td>3</td>\n",
       "    </tr>\n",
       "  </tbody>\n",
       "</table>\n",
       "</div>"
      ],
      "text/plain": [
       "        destination\n",
       "origin             \n",
       "1027              7\n",
       "1010              3\n",
       "1020              3"
      ]
     },
     "execution_count": 201,
     "metadata": {},
     "output_type": "execute_result"
    }
   ],
   "source": [
    "s1 = answered_sent_cdr[['origin','destination']].groupby(['origin']).count()\n",
    "s1 = s1.sort_values(by='destination', ascending=False)\n",
    "s1.head(10)"
   ]
  },
  {
   "cell_type": "code",
   "execution_count": 202,
   "metadata": {},
   "outputs": [
    {
     "data": {
      "text/html": [
       "<div>\n",
       "<style scoped>\n",
       "    .dataframe tbody tr th:only-of-type {\n",
       "        vertical-align: middle;\n",
       "    }\n",
       "\n",
       "    .dataframe tbody tr th {\n",
       "        vertical-align: top;\n",
       "    }\n",
       "\n",
       "    .dataframe thead th {\n",
       "        text-align: right;\n",
       "    }\n",
       "</style>\n",
       "<table border=\"1\" class=\"dataframe\">\n",
       "  <thead>\n",
       "    <tr style=\"text-align: right;\">\n",
       "      <th></th>\n",
       "      <th>destination</th>\n",
       "    </tr>\n",
       "    <tr>\n",
       "      <th>origin</th>\n",
       "      <th></th>\n",
       "    </tr>\n",
       "  </thead>\n",
       "  <tbody>\n",
       "    <tr>\n",
       "      <th>1027</th>\n",
       "      <td>11.0</td>\n",
       "    </tr>\n",
       "    <tr>\n",
       "      <th>1020</th>\n",
       "      <td>4.0</td>\n",
       "    </tr>\n",
       "    <tr>\n",
       "      <th>1010</th>\n",
       "      <td>NaN</td>\n",
       "    </tr>\n",
       "    <tr>\n",
       "      <th>1011</th>\n",
       "      <td>NaN</td>\n",
       "    </tr>\n",
       "  </tbody>\n",
       "</table>\n",
       "</div>"
      ],
      "text/plain": [
       "        destination\n",
       "origin             \n",
       "1027           11.0\n",
       "1020            4.0\n",
       "1010            NaN\n",
       "1011            NaN"
      ]
     },
     "execution_count": 202,
     "metadata": {},
     "output_type": "execute_result"
    }
   ],
   "source": [
    "s2 = unanswered_sent_cdr[['origin','destination']].groupby(['origin']).count()+s1\n",
    "s2 = s2.sort_values(by='destination', ascending=False)\n",
    "s2.head(10)"
   ]
  },
  {
   "cell_type": "markdown",
   "metadata": {},
   "source": [
    "### Most called numbers"
   ]
  },
  {
   "cell_type": "code",
   "execution_count": 213,
   "metadata": {},
   "outputs": [
    {
     "data": {
      "text/html": [
       "<div>\n",
       "<style scoped>\n",
       "    .dataframe tbody tr th:only-of-type {\n",
       "        vertical-align: middle;\n",
       "    }\n",
       "\n",
       "    .dataframe tbody tr th {\n",
       "        vertical-align: top;\n",
       "    }\n",
       "\n",
       "    .dataframe thead th {\n",
       "        text-align: right;\n",
       "    }\n",
       "</style>\n",
       "<table border=\"1\" class=\"dataframe\">\n",
       "  <thead>\n",
       "    <tr style=\"text-align: right;\">\n",
       "      <th></th>\n",
       "      <th>origin</th>\n",
       "    </tr>\n",
       "    <tr>\n",
       "      <th>destination</th>\n",
       "      <th></th>\n",
       "    </tr>\n",
       "  </thead>\n",
       "  <tbody>\n",
       "    <tr>\n",
       "      <th>5522552255</th>\n",
       "      <td>2</td>\n",
       "    </tr>\n",
       "    <tr>\n",
       "      <th>53252352555</th>\n",
       "      <td>2</td>\n",
       "    </tr>\n",
       "    <tr>\n",
       "      <th>2234234</th>\n",
       "      <td>1</td>\n",
       "    </tr>\n",
       "    <tr>\n",
       "      <th>44224422</th>\n",
       "      <td>1</td>\n",
       "    </tr>\n",
       "    <tr>\n",
       "      <th>53453434</th>\n",
       "      <td>1</td>\n",
       "    </tr>\n",
       "    <tr>\n",
       "      <th>2323423423</th>\n",
       "      <td>1</td>\n",
       "    </tr>\n",
       "    <tr>\n",
       "      <th>4234342424</th>\n",
       "      <td>1</td>\n",
       "    </tr>\n",
       "    <tr>\n",
       "      <th>6455456654</th>\n",
       "      <td>1</td>\n",
       "    </tr>\n",
       "    <tr>\n",
       "      <th>11121212121</th>\n",
       "      <td>1</td>\n",
       "    </tr>\n",
       "    <tr>\n",
       "      <th>22244422244</th>\n",
       "      <td>1</td>\n",
       "    </tr>\n",
       "  </tbody>\n",
       "</table>\n",
       "</div>"
      ],
      "text/plain": [
       "             origin\n",
       "destination        \n",
       "5522552255        2\n",
       "53252352555       2\n",
       "2234234           1\n",
       "44224422          1\n",
       "53453434          1\n",
       "2323423423        1\n",
       "4234342424        1\n",
       "6455456654        1\n",
       "11121212121       1\n",
       "22244422244       1"
      ]
     },
     "execution_count": 213,
     "metadata": {},
     "output_type": "execute_result"
    }
   ],
   "source": [
    "s = answered_sent_cdr[['origin','destination']].groupby(['destination']).count()\n",
    "s = s.sort_values(by='origin', ascending=False)\n",
    "s.head(10)"
   ]
  },
  {
   "cell_type": "markdown",
   "metadata": {},
   "source": [
    "### Numbers that made most incoming calls"
   ]
  },
  {
   "cell_type": "code",
   "execution_count": 214,
   "metadata": {},
   "outputs": [
    {
     "data": {
      "text/html": [
       "<div>\n",
       "<style scoped>\n",
       "    .dataframe tbody tr th:only-of-type {\n",
       "        vertical-align: middle;\n",
       "    }\n",
       "\n",
       "    .dataframe tbody tr th {\n",
       "        vertical-align: top;\n",
       "    }\n",
       "\n",
       "    .dataframe thead th {\n",
       "        text-align: right;\n",
       "    }\n",
       "</style>\n",
       "<table border=\"1\" class=\"dataframe\">\n",
       "  <thead>\n",
       "    <tr style=\"text-align: right;\">\n",
       "      <th></th>\n",
       "      <th>destination</th>\n",
       "    </tr>\n",
       "    <tr>\n",
       "      <th>origin</th>\n",
       "      <th></th>\n",
       "    </tr>\n",
       "  </thead>\n",
       "  <tbody>\n",
       "    <tr>\n",
       "      <th>224422411144</th>\n",
       "      <td>1</td>\n",
       "    </tr>\n",
       "  </tbody>\n",
       "</table>\n",
       "</div>"
      ],
      "text/plain": [
       "              destination\n",
       "origin                   \n",
       "224422411144            1"
      ]
     },
     "execution_count": 214,
     "metadata": {},
     "output_type": "execute_result"
    }
   ],
   "source": [
    "s = answered_recv_cdr[['origin','destination']].groupby(['origin']).count()\n",
    "s = s.sort_values(by='destination', ascending=False)\n",
    "s.head(10)"
   ]
  },
  {
   "cell_type": "markdown",
   "metadata": {},
   "source": [
    "### Time to pickup incoming calls"
   ]
  },
  {
   "cell_type": "code",
   "execution_count": 215,
   "metadata": {},
   "outputs": [
    {
     "data": {
      "text/plain": [
       "0    10.0\n",
       "dtype: float64"
      ]
     },
     "execution_count": 215,
     "metadata": {},
     "output_type": "execute_result"
    }
   ],
   "source": [
    "t = answered_recv_cdr['duration'] - answered_recv_cdr['billsec']\n",
    "t.to_frame().mean()"
   ]
  },
  {
   "cell_type": "markdown",
   "metadata": {},
   "source": [
    "### Time for outgoing calls to be pickup"
   ]
  },
  {
   "cell_type": "code",
   "execution_count": 216,
   "metadata": {},
   "outputs": [
    {
     "data": {
      "text/plain": [
       "0    310.0\n",
       "dtype: float64"
      ]
     },
     "execution_count": 216,
     "metadata": {},
     "output_type": "execute_result"
    }
   ],
   "source": [
    "t = answered_sent_cdr['duration'] - answered_recv_cdr['billsec']\n",
    "t.to_frame().mean()"
   ]
  },
  {
   "cell_type": "markdown",
   "metadata": {},
   "source": [
    "### Time talking time per received call"
   ]
  },
  {
   "cell_type": "code",
   "execution_count": 217,
   "metadata": {},
   "outputs": [
    {
     "data": {
      "text/html": [
       "<div>\n",
       "<style scoped>\n",
       "    .dataframe tbody tr th:only-of-type {\n",
       "        vertical-align: middle;\n",
       "    }\n",
       "\n",
       "    .dataframe tbody tr th {\n",
       "        vertical-align: top;\n",
       "    }\n",
       "\n",
       "    .dataframe thead th {\n",
       "        text-align: right;\n",
       "    }\n",
       "</style>\n",
       "<table border=\"1\" class=\"dataframe\">\n",
       "  <thead>\n",
       "    <tr style=\"text-align: right;\">\n",
       "      <th></th>\n",
       "      <th>billsec</th>\n",
       "    </tr>\n",
       "  </thead>\n",
       "  <tbody>\n",
       "    <tr>\n",
       "      <th>count</th>\n",
       "      <td>1.0</td>\n",
       "    </tr>\n",
       "    <tr>\n",
       "      <th>mean</th>\n",
       "      <td>70.0</td>\n",
       "    </tr>\n",
       "    <tr>\n",
       "      <th>std</th>\n",
       "      <td>NaN</td>\n",
       "    </tr>\n",
       "    <tr>\n",
       "      <th>min</th>\n",
       "      <td>70.0</td>\n",
       "    </tr>\n",
       "    <tr>\n",
       "      <th>25%</th>\n",
       "      <td>70.0</td>\n",
       "    </tr>\n",
       "    <tr>\n",
       "      <th>50%</th>\n",
       "      <td>70.0</td>\n",
       "    </tr>\n",
       "    <tr>\n",
       "      <th>75%</th>\n",
       "      <td>70.0</td>\n",
       "    </tr>\n",
       "    <tr>\n",
       "      <th>max</th>\n",
       "      <td>70.0</td>\n",
       "    </tr>\n",
       "  </tbody>\n",
       "</table>\n",
       "</div>"
      ],
      "text/plain": [
       "       billsec\n",
       "count      1.0\n",
       "mean      70.0\n",
       "std        NaN\n",
       "min       70.0\n",
       "25%       70.0\n",
       "50%       70.0\n",
       "75%       70.0\n",
       "max       70.0"
      ]
     },
     "execution_count": 217,
     "metadata": {},
     "output_type": "execute_result"
    }
   ],
   "source": [
    "answered_recv_cdr['billsec'].to_frame().describe()"
   ]
  },
  {
   "cell_type": "markdown",
   "metadata": {},
   "source": [
    "### Ratio of work time on active calls"
   ]
  },
  {
   "cell_type": "code",
   "execution_count": 218,
   "metadata": {},
   "outputs": [
    {
     "data": {
      "text/plain": [
       "3589"
      ]
     },
     "execution_count": 218,
     "metadata": {},
     "output_type": "execute_result"
    }
   ],
   "source": [
    "total_duration = answered_sent_cdr['duration'].sum() + answered_recv_cdr['duration'].sum()\n",
    "total_duration"
   ]
  },
  {
   "cell_type": "code",
   "execution_count": 219,
   "metadata": {},
   "outputs": [
    {
     "data": {
      "text/plain": [
       "0.6815481303974319"
      ]
     },
     "execution_count": 219,
     "metadata": {},
     "output_type": "execute_result"
    }
   ],
   "source": [
    "total_duration/period_work_time"
   ]
  },
  {
   "cell_type": "markdown",
   "metadata": {},
   "source": [
    "### Extension spending most time on calls"
   ]
  },
  {
   "cell_type": "markdown",
   "metadata": {},
   "source": [
    "#### Seconds"
   ]
  },
  {
   "cell_type": "code",
   "execution_count": 220,
   "metadata": {},
   "outputs": [
    {
     "data": {
      "text/html": [
       "<div>\n",
       "<style scoped>\n",
       "    .dataframe tbody tr th:only-of-type {\n",
       "        vertical-align: middle;\n",
       "    }\n",
       "\n",
       "    .dataframe tbody tr th {\n",
       "        vertical-align: top;\n",
       "    }\n",
       "\n",
       "    .dataframe thead th {\n",
       "        text-align: right;\n",
       "    }\n",
       "</style>\n",
       "<table border=\"1\" class=\"dataframe\">\n",
       "  <thead>\n",
       "    <tr style=\"text-align: right;\">\n",
       "      <th></th>\n",
       "      <th>duration</th>\n",
       "    </tr>\n",
       "  </thead>\n",
       "  <tbody>\n",
       "    <tr>\n",
       "      <th>1010</th>\n",
       "      <td>NaN</td>\n",
       "    </tr>\n",
       "    <tr>\n",
       "      <th>1011</th>\n",
       "      <td>NaN</td>\n",
       "    </tr>\n",
       "    <tr>\n",
       "      <th>1020</th>\n",
       "      <td>NaN</td>\n",
       "    </tr>\n",
       "    <tr>\n",
       "      <th>1027</th>\n",
       "      <td>NaN</td>\n",
       "    </tr>\n",
       "  </tbody>\n",
       "</table>\n",
       "</div>"
      ],
      "text/plain": [
       "      duration\n",
       "1010       NaN\n",
       "1011       NaN\n",
       "1020       NaN\n",
       "1027       NaN"
      ]
     },
     "execution_count": 220,
     "metadata": {},
     "output_type": "execute_result"
    }
   ],
   "source": [
    "top_ext_time_sent = answered_sent_cdr[['origin','duration']].groupby(['origin']).sum()\n",
    "top_ext_time_recv = answered_recv_cdr[['destination','duration']].groupby(['destination']).sum()\n",
    "top_ext_time = top_ext_time_recv + top_ext_time_sent\n",
    "top_ext_time = top_ext_time.sort_values('duration', ascending=False)\n",
    "top_ext_time.head(10)"
   ]
  },
  {
   "cell_type": "markdown",
   "metadata": {},
   "source": [
    "#### Work time perc"
   ]
  },
  {
   "cell_type": "code",
   "execution_count": 221,
   "metadata": {},
   "outputs": [
    {
     "data": {
      "text/html": [
       "<div>\n",
       "<style scoped>\n",
       "    .dataframe tbody tr th:only-of-type {\n",
       "        vertical-align: middle;\n",
       "    }\n",
       "\n",
       "    .dataframe tbody tr th {\n",
       "        vertical-align: top;\n",
       "    }\n",
       "\n",
       "    .dataframe thead th {\n",
       "        text-align: right;\n",
       "    }\n",
       "</style>\n",
       "<table border=\"1\" class=\"dataframe\">\n",
       "  <thead>\n",
       "    <tr style=\"text-align: right;\">\n",
       "      <th></th>\n",
       "      <th>duration</th>\n",
       "    </tr>\n",
       "  </thead>\n",
       "  <tbody>\n",
       "    <tr>\n",
       "      <th>1010</th>\n",
       "      <td>NaN</td>\n",
       "    </tr>\n",
       "    <tr>\n",
       "      <th>1011</th>\n",
       "      <td>NaN</td>\n",
       "    </tr>\n",
       "    <tr>\n",
       "      <th>1020</th>\n",
       "      <td>NaN</td>\n",
       "    </tr>\n",
       "    <tr>\n",
       "      <th>1027</th>\n",
       "      <td>NaN</td>\n",
       "    </tr>\n",
       "  </tbody>\n",
       "</table>\n",
       "</div>"
      ],
      "text/plain": [
       "      duration\n",
       "1010       NaN\n",
       "1011       NaN\n",
       "1020       NaN\n",
       "1027       NaN"
      ]
     },
     "execution_count": 221,
     "metadata": {},
     "output_type": "execute_result"
    }
   ],
   "source": [
    "top_ext_time_perc = top_ext_time/period_work_time\n",
    "top_ext_time_perc.head(10)"
   ]
  },
  {
   "cell_type": "markdown",
   "metadata": {},
   "source": [
    "### Number spending most time in calls"
   ]
  },
  {
   "cell_type": "code",
   "execution_count": 222,
   "metadata": {},
   "outputs": [
    {
     "data": {
      "text/html": [
       "<div>\n",
       "<style scoped>\n",
       "    .dataframe tbody tr th:only-of-type {\n",
       "        vertical-align: middle;\n",
       "    }\n",
       "\n",
       "    .dataframe tbody tr th {\n",
       "        vertical-align: top;\n",
       "    }\n",
       "\n",
       "    .dataframe thead th {\n",
       "        text-align: right;\n",
       "    }\n",
       "</style>\n",
       "<table border=\"1\" class=\"dataframe\">\n",
       "  <thead>\n",
       "    <tr style=\"text-align: right;\">\n",
       "      <th></th>\n",
       "      <th>duration</th>\n",
       "    </tr>\n",
       "  </thead>\n",
       "  <tbody>\n",
       "    <tr>\n",
       "      <th>2234234</th>\n",
       "      <td>NaN</td>\n",
       "    </tr>\n",
       "    <tr>\n",
       "      <th>44224422</th>\n",
       "      <td>NaN</td>\n",
       "    </tr>\n",
       "    <tr>\n",
       "      <th>53453434</th>\n",
       "      <td>NaN</td>\n",
       "    </tr>\n",
       "    <tr>\n",
       "      <th>2323423423</th>\n",
       "      <td>NaN</td>\n",
       "    </tr>\n",
       "    <tr>\n",
       "      <th>4234342424</th>\n",
       "      <td>NaN</td>\n",
       "    </tr>\n",
       "    <tr>\n",
       "      <th>5522552255</th>\n",
       "      <td>NaN</td>\n",
       "    </tr>\n",
       "    <tr>\n",
       "      <th>6455456654</th>\n",
       "      <td>NaN</td>\n",
       "    </tr>\n",
       "    <tr>\n",
       "      <th>11121212121</th>\n",
       "      <td>NaN</td>\n",
       "    </tr>\n",
       "    <tr>\n",
       "      <th>22244422244</th>\n",
       "      <td>NaN</td>\n",
       "    </tr>\n",
       "    <tr>\n",
       "      <th>34254534555</th>\n",
       "      <td>NaN</td>\n",
       "    </tr>\n",
       "  </tbody>\n",
       "</table>\n",
       "</div>"
      ],
      "text/plain": [
       "             duration\n",
       "2234234           NaN\n",
       "44224422          NaN\n",
       "53453434          NaN\n",
       "2323423423        NaN\n",
       "4234342424        NaN\n",
       "5522552255        NaN\n",
       "6455456654        NaN\n",
       "11121212121       NaN\n",
       "22244422244       NaN\n",
       "34254534555       NaN"
      ]
     },
     "execution_count": 222,
     "metadata": {},
     "output_type": "execute_result"
    }
   ],
   "source": [
    "top_number_time_sent = answered_sent_cdr[['destination','duration']].groupby(['destination']).sum()\n",
    "top_number_time_recv = answered_recv_cdr[['origin','duration']].groupby(['origin']).sum()\n",
    "top_number_time = top_number_time_recv + top_number_time_sent\n",
    "top_number_time = top_number_time.sort_values('duration', ascending=False)\n",
    "top_number_time.head(10)"
   ]
  },
  {
   "cell_type": "code",
   "execution_count": null,
   "metadata": {},
   "outputs": [],
   "source": []
  },
  {
   "cell_type": "code",
   "execution_count": null,
   "metadata": {},
   "outputs": [],
   "source": []
  }
 ],
 "metadata": {
  "kernelspec": {
   "display_name": "Python 3",
   "language": "python",
   "name": "python3"
  },
  "language_info": {
   "codemirror_mode": {
    "name": "ipython",
    "version": 3
   },
   "file_extension": ".py",
   "mimetype": "text/x-python",
   "name": "python",
   "nbconvert_exporter": "python",
   "pygments_lexer": "ipython3",
   "version": "3.6.9"
  }
 },
 "nbformat": 4,
 "nbformat_minor": 4
}
